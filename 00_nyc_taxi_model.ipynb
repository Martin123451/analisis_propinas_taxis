{
  "nbformat": 4,
  "nbformat_minor": 0,
  "metadata": {
    "colab": {
      "provenance": []
    },
    "kernelspec": {
      "name": "python3",
      "display_name": "Python 3"
    },
    "language_info": {
      "name": "python"
    }
  },
  "cells": [
    {
      "cell_type": "markdown",
      "source": [
        "# Clasificador de Propinas para Viajes en Taxi en NYC (2020)\n",
        "\n",
        "Inspirado en la charla [\"Keeping up with Machine Learning in Production\"](https://github.com/shreyashankar/debugging-ml-talk) de [Shreya Shankar](https://twitter.com/sh_reya)\n"
      ],
      "metadata": {
        "id": "TcH96_iUu5aM"
      }
    },
    {
      "cell_type": "markdown",
      "source": [
        "Este notebook muestra la construcción de un modelo de machine learning de juguete, usando datos de viajes de los taxis amarillos de Nueva York para el año 2020, [proporcionados por la NYC Taxi and Limousine Commission (TLC)](https://www1.nyc.gov/site/tlc/about/tlc-trip-record-data.page).\n",
        "\n",
        "La idea es encontrar aquellos viajes donde la propina dejada por el pasajero fue alta, es decir, mayor al 20% del costo del viaje.\n",
        "\n",
        "Para ello ajustaremos un modelo de classificación binaria RandomForest usando los datos de los viajes de enero de 2020. Probaremos el modelo resultante sobre los datos de los viajes de febrero de 2020. Compararemos el desempeño del modelo en ambos casos usando la métrica de [f1-score](https://en.wikipedia.org/wiki/F-score).\n",
        "\n",
        "**Este notebook está construido para ser ejecutado en [Google Colab](https://colab.research.google.com/), al que podemos acceder de manera gratuita solo teniendo un usuario de Google (Gmail) y un navegador web. No es necesario instalar nada en el computador local.**"
      ],
      "metadata": {
        "id": "1QPR0Njcv1PU"
      }
    },
    {
      "cell_type": "markdown",
      "source": [
        "## Cargando las librerías necesarias"
      ],
      "metadata": {
        "id": "fu0lAPirwwVE"
      }
    },
    {
      "cell_type": "code",
      "source": [
        "import pandas as pd\n",
        "from sklearn.ensemble import RandomForestClassifier\n",
        "from sklearn.metrics import f1_score"
      ],
      "metadata": {
        "id": "Ndnq4DCpMSxF"
      },
      "execution_count": 1,
      "outputs": []
    },
    {
      "cell_type": "markdown",
      "source": [
        "## Leemos los datos de enero 2020 (entrenamiento)"
      ],
      "metadata": {
        "id": "UN6A9kIRxT6S"
      }
    },
    {
      "cell_type": "code",
      "source": [
        "taxi = pd.read_parquet('https://d37ci6vzurychx.cloudfront.net/trip-data/yellow_tripdata_2020-01.parquet')"
      ],
      "metadata": {
        "id": "rOBvAuT_Okw0"
      },
      "execution_count": 2,
      "outputs": []
    },
    {
      "cell_type": "code",
      "source": [
        "taxi.head()"
      ],
      "metadata": {
        "colab": {
          "base_uri": "https://localhost:8080/",
          "height": 206
        },
        "id": "aDZlCWDKRJvM",
        "outputId": "a64dbd08-fcf7-46b5-df0f-4e2721b67f43"
      },
      "execution_count": 3,
      "outputs": [
        {
          "output_type": "execute_result",
          "data": {
            "text/plain": [
              "   VendorID tpep_pickup_datetime tpep_dropoff_datetime  passenger_count  \\\n",
              "0         1  2020-01-01 00:28:15   2020-01-01 00:33:03              1.0   \n",
              "1         1  2020-01-01 00:35:39   2020-01-01 00:43:04              1.0   \n",
              "2         1  2020-01-01 00:47:41   2020-01-01 00:53:52              1.0   \n",
              "3         1  2020-01-01 00:55:23   2020-01-01 01:00:14              1.0   \n",
              "4         2  2020-01-01 00:01:58   2020-01-01 00:04:16              1.0   \n",
              "\n",
              "   trip_distance  RatecodeID store_and_fwd_flag  PULocationID  DOLocationID  \\\n",
              "0            1.2         1.0                  N           238           239   \n",
              "1            1.2         1.0                  N           239           238   \n",
              "2            0.6         1.0                  N           238           238   \n",
              "3            0.8         1.0                  N           238           151   \n",
              "4            0.0         1.0                  N           193           193   \n",
              "\n",
              "   payment_type  fare_amount  extra  mta_tax  tip_amount  tolls_amount  \\\n",
              "0             1          6.0    3.0      0.5        1.47           0.0   \n",
              "1             1          7.0    3.0      0.5        1.50           0.0   \n",
              "2             1          6.0    3.0      0.5        1.00           0.0   \n",
              "3             1          5.5    0.5      0.5        1.36           0.0   \n",
              "4             2          3.5    0.5      0.5        0.00           0.0   \n",
              "\n",
              "   improvement_surcharge  total_amount  congestion_surcharge airport_fee  \n",
              "0                    0.3         11.27                   2.5        None  \n",
              "1                    0.3         12.30                   2.5        None  \n",
              "2                    0.3         10.80                   2.5        None  \n",
              "3                    0.3          8.16                   0.0        None  \n",
              "4                    0.3          4.80                   0.0        None  "
            ],
            "text/html": [
              "\n",
              "  <div id=\"df-2e9cdce3-5fad-498a-af89-916e6b87d12c\" class=\"colab-df-container\">\n",
              "    <div>\n",
              "<style scoped>\n",
              "    .dataframe tbody tr th:only-of-type {\n",
              "        vertical-align: middle;\n",
              "    }\n",
              "\n",
              "    .dataframe tbody tr th {\n",
              "        vertical-align: top;\n",
              "    }\n",
              "\n",
              "    .dataframe thead th {\n",
              "        text-align: right;\n",
              "    }\n",
              "</style>\n",
              "<table border=\"1\" class=\"dataframe\">\n",
              "  <thead>\n",
              "    <tr style=\"text-align: right;\">\n",
              "      <th></th>\n",
              "      <th>VendorID</th>\n",
              "      <th>tpep_pickup_datetime</th>\n",
              "      <th>tpep_dropoff_datetime</th>\n",
              "      <th>passenger_count</th>\n",
              "      <th>trip_distance</th>\n",
              "      <th>RatecodeID</th>\n",
              "      <th>store_and_fwd_flag</th>\n",
              "      <th>PULocationID</th>\n",
              "      <th>DOLocationID</th>\n",
              "      <th>payment_type</th>\n",
              "      <th>fare_amount</th>\n",
              "      <th>extra</th>\n",
              "      <th>mta_tax</th>\n",
              "      <th>tip_amount</th>\n",
              "      <th>tolls_amount</th>\n",
              "      <th>improvement_surcharge</th>\n",
              "      <th>total_amount</th>\n",
              "      <th>congestion_surcharge</th>\n",
              "      <th>airport_fee</th>\n",
              "    </tr>\n",
              "  </thead>\n",
              "  <tbody>\n",
              "    <tr>\n",
              "      <th>0</th>\n",
              "      <td>1</td>\n",
              "      <td>2020-01-01 00:28:15</td>\n",
              "      <td>2020-01-01 00:33:03</td>\n",
              "      <td>1.0</td>\n",
              "      <td>1.2</td>\n",
              "      <td>1.0</td>\n",
              "      <td>N</td>\n",
              "      <td>238</td>\n",
              "      <td>239</td>\n",
              "      <td>1</td>\n",
              "      <td>6.0</td>\n",
              "      <td>3.0</td>\n",
              "      <td>0.5</td>\n",
              "      <td>1.47</td>\n",
              "      <td>0.0</td>\n",
              "      <td>0.3</td>\n",
              "      <td>11.27</td>\n",
              "      <td>2.5</td>\n",
              "      <td>None</td>\n",
              "    </tr>\n",
              "    <tr>\n",
              "      <th>1</th>\n",
              "      <td>1</td>\n",
              "      <td>2020-01-01 00:35:39</td>\n",
              "      <td>2020-01-01 00:43:04</td>\n",
              "      <td>1.0</td>\n",
              "      <td>1.2</td>\n",
              "      <td>1.0</td>\n",
              "      <td>N</td>\n",
              "      <td>239</td>\n",
              "      <td>238</td>\n",
              "      <td>1</td>\n",
              "      <td>7.0</td>\n",
              "      <td>3.0</td>\n",
              "      <td>0.5</td>\n",
              "      <td>1.50</td>\n",
              "      <td>0.0</td>\n",
              "      <td>0.3</td>\n",
              "      <td>12.30</td>\n",
              "      <td>2.5</td>\n",
              "      <td>None</td>\n",
              "    </tr>\n",
              "    <tr>\n",
              "      <th>2</th>\n",
              "      <td>1</td>\n",
              "      <td>2020-01-01 00:47:41</td>\n",
              "      <td>2020-01-01 00:53:52</td>\n",
              "      <td>1.0</td>\n",
              "      <td>0.6</td>\n",
              "      <td>1.0</td>\n",
              "      <td>N</td>\n",
              "      <td>238</td>\n",
              "      <td>238</td>\n",
              "      <td>1</td>\n",
              "      <td>6.0</td>\n",
              "      <td>3.0</td>\n",
              "      <td>0.5</td>\n",
              "      <td>1.00</td>\n",
              "      <td>0.0</td>\n",
              "      <td>0.3</td>\n",
              "      <td>10.80</td>\n",
              "      <td>2.5</td>\n",
              "      <td>None</td>\n",
              "    </tr>\n",
              "    <tr>\n",
              "      <th>3</th>\n",
              "      <td>1</td>\n",
              "      <td>2020-01-01 00:55:23</td>\n",
              "      <td>2020-01-01 01:00:14</td>\n",
              "      <td>1.0</td>\n",
              "      <td>0.8</td>\n",
              "      <td>1.0</td>\n",
              "      <td>N</td>\n",
              "      <td>238</td>\n",
              "      <td>151</td>\n",
              "      <td>1</td>\n",
              "      <td>5.5</td>\n",
              "      <td>0.5</td>\n",
              "      <td>0.5</td>\n",
              "      <td>1.36</td>\n",
              "      <td>0.0</td>\n",
              "      <td>0.3</td>\n",
              "      <td>8.16</td>\n",
              "      <td>0.0</td>\n",
              "      <td>None</td>\n",
              "    </tr>\n",
              "    <tr>\n",
              "      <th>4</th>\n",
              "      <td>2</td>\n",
              "      <td>2020-01-01 00:01:58</td>\n",
              "      <td>2020-01-01 00:04:16</td>\n",
              "      <td>1.0</td>\n",
              "      <td>0.0</td>\n",
              "      <td>1.0</td>\n",
              "      <td>N</td>\n",
              "      <td>193</td>\n",
              "      <td>193</td>\n",
              "      <td>2</td>\n",
              "      <td>3.5</td>\n",
              "      <td>0.5</td>\n",
              "      <td>0.5</td>\n",
              "      <td>0.00</td>\n",
              "      <td>0.0</td>\n",
              "      <td>0.3</td>\n",
              "      <td>4.80</td>\n",
              "      <td>0.0</td>\n",
              "      <td>None</td>\n",
              "    </tr>\n",
              "  </tbody>\n",
              "</table>\n",
              "</div>\n",
              "    <div class=\"colab-df-buttons\">\n",
              "\n",
              "  <div class=\"colab-df-container\">\n",
              "    <button class=\"colab-df-convert\" onclick=\"convertToInteractive('df-2e9cdce3-5fad-498a-af89-916e6b87d12c')\"\n",
              "            title=\"Convert this dataframe to an interactive table.\"\n",
              "            style=\"display:none;\">\n",
              "\n",
              "  <svg xmlns=\"http://www.w3.org/2000/svg\" height=\"24px\" viewBox=\"0 -960 960 960\">\n",
              "    <path d=\"M120-120v-720h720v720H120Zm60-500h600v-160H180v160Zm220 220h160v-160H400v160Zm0 220h160v-160H400v160ZM180-400h160v-160H180v160Zm440 0h160v-160H620v160ZM180-180h160v-160H180v160Zm440 0h160v-160H620v160Z\"/>\n",
              "  </svg>\n",
              "    </button>\n",
              "\n",
              "  <style>\n",
              "    .colab-df-container {\n",
              "      display:flex;\n",
              "      gap: 12px;\n",
              "    }\n",
              "\n",
              "    .colab-df-convert {\n",
              "      background-color: #E8F0FE;\n",
              "      border: none;\n",
              "      border-radius: 50%;\n",
              "      cursor: pointer;\n",
              "      display: none;\n",
              "      fill: #1967D2;\n",
              "      height: 32px;\n",
              "      padding: 0 0 0 0;\n",
              "      width: 32px;\n",
              "    }\n",
              "\n",
              "    .colab-df-convert:hover {\n",
              "      background-color: #E2EBFA;\n",
              "      box-shadow: 0px 1px 2px rgba(60, 64, 67, 0.3), 0px 1px 3px 1px rgba(60, 64, 67, 0.15);\n",
              "      fill: #174EA6;\n",
              "    }\n",
              "\n",
              "    .colab-df-buttons div {\n",
              "      margin-bottom: 4px;\n",
              "    }\n",
              "\n",
              "    [theme=dark] .colab-df-convert {\n",
              "      background-color: #3B4455;\n",
              "      fill: #D2E3FC;\n",
              "    }\n",
              "\n",
              "    [theme=dark] .colab-df-convert:hover {\n",
              "      background-color: #434B5C;\n",
              "      box-shadow: 0px 1px 3px 1px rgba(0, 0, 0, 0.15);\n",
              "      filter: drop-shadow(0px 1px 2px rgba(0, 0, 0, 0.3));\n",
              "      fill: #FFFFFF;\n",
              "    }\n",
              "  </style>\n",
              "\n",
              "    <script>\n",
              "      const buttonEl =\n",
              "        document.querySelector('#df-2e9cdce3-5fad-498a-af89-916e6b87d12c button.colab-df-convert');\n",
              "      buttonEl.style.display =\n",
              "        google.colab.kernel.accessAllowed ? 'block' : 'none';\n",
              "\n",
              "      async function convertToInteractive(key) {\n",
              "        const element = document.querySelector('#df-2e9cdce3-5fad-498a-af89-916e6b87d12c');\n",
              "        const dataTable =\n",
              "          await google.colab.kernel.invokeFunction('convertToInteractive',\n",
              "                                                    [key], {});\n",
              "        if (!dataTable) return;\n",
              "\n",
              "        const docLinkHtml = 'Like what you see? Visit the ' +\n",
              "          '<a target=\"_blank\" href=https://colab.research.google.com/notebooks/data_table.ipynb>data table notebook</a>'\n",
              "          + ' to learn more about interactive tables.';\n",
              "        element.innerHTML = '';\n",
              "        dataTable['output_type'] = 'display_data';\n",
              "        await google.colab.output.renderOutput(dataTable, element);\n",
              "        const docLink = document.createElement('div');\n",
              "        docLink.innerHTML = docLinkHtml;\n",
              "        element.appendChild(docLink);\n",
              "      }\n",
              "    </script>\n",
              "  </div>\n",
              "\n",
              "\n",
              "<div id=\"df-92f3a932-2ae9-4ebd-bb0f-bf8e36caa8d4\">\n",
              "  <button class=\"colab-df-quickchart\" onclick=\"quickchart('df-92f3a932-2ae9-4ebd-bb0f-bf8e36caa8d4')\"\n",
              "            title=\"Suggest charts\"\n",
              "            style=\"display:none;\">\n",
              "\n",
              "<svg xmlns=\"http://www.w3.org/2000/svg\" height=\"24px\"viewBox=\"0 0 24 24\"\n",
              "     width=\"24px\">\n",
              "    <g>\n",
              "        <path d=\"M19 3H5c-1.1 0-2 .9-2 2v14c0 1.1.9 2 2 2h14c1.1 0 2-.9 2-2V5c0-1.1-.9-2-2-2zM9 17H7v-7h2v7zm4 0h-2V7h2v10zm4 0h-2v-4h2v4z\"/>\n",
              "    </g>\n",
              "</svg>\n",
              "  </button>\n",
              "\n",
              "<style>\n",
              "  .colab-df-quickchart {\n",
              "      --bg-color: #E8F0FE;\n",
              "      --fill-color: #1967D2;\n",
              "      --hover-bg-color: #E2EBFA;\n",
              "      --hover-fill-color: #174EA6;\n",
              "      --disabled-fill-color: #AAA;\n",
              "      --disabled-bg-color: #DDD;\n",
              "  }\n",
              "\n",
              "  [theme=dark] .colab-df-quickchart {\n",
              "      --bg-color: #3B4455;\n",
              "      --fill-color: #D2E3FC;\n",
              "      --hover-bg-color: #434B5C;\n",
              "      --hover-fill-color: #FFFFFF;\n",
              "      --disabled-bg-color: #3B4455;\n",
              "      --disabled-fill-color: #666;\n",
              "  }\n",
              "\n",
              "  .colab-df-quickchart {\n",
              "    background-color: var(--bg-color);\n",
              "    border: none;\n",
              "    border-radius: 50%;\n",
              "    cursor: pointer;\n",
              "    display: none;\n",
              "    fill: var(--fill-color);\n",
              "    height: 32px;\n",
              "    padding: 0;\n",
              "    width: 32px;\n",
              "  }\n",
              "\n",
              "  .colab-df-quickchart:hover {\n",
              "    background-color: var(--hover-bg-color);\n",
              "    box-shadow: 0 1px 2px rgba(60, 64, 67, 0.3), 0 1px 3px 1px rgba(60, 64, 67, 0.15);\n",
              "    fill: var(--button-hover-fill-color);\n",
              "  }\n",
              "\n",
              "  .colab-df-quickchart-complete:disabled,\n",
              "  .colab-df-quickchart-complete:disabled:hover {\n",
              "    background-color: var(--disabled-bg-color);\n",
              "    fill: var(--disabled-fill-color);\n",
              "    box-shadow: none;\n",
              "  }\n",
              "\n",
              "  .colab-df-spinner {\n",
              "    border: 2px solid var(--fill-color);\n",
              "    border-color: transparent;\n",
              "    border-bottom-color: var(--fill-color);\n",
              "    animation:\n",
              "      spin 1s steps(1) infinite;\n",
              "  }\n",
              "\n",
              "  @keyframes spin {\n",
              "    0% {\n",
              "      border-color: transparent;\n",
              "      border-bottom-color: var(--fill-color);\n",
              "      border-left-color: var(--fill-color);\n",
              "    }\n",
              "    20% {\n",
              "      border-color: transparent;\n",
              "      border-left-color: var(--fill-color);\n",
              "      border-top-color: var(--fill-color);\n",
              "    }\n",
              "    30% {\n",
              "      border-color: transparent;\n",
              "      border-left-color: var(--fill-color);\n",
              "      border-top-color: var(--fill-color);\n",
              "      border-right-color: var(--fill-color);\n",
              "    }\n",
              "    40% {\n",
              "      border-color: transparent;\n",
              "      border-right-color: var(--fill-color);\n",
              "      border-top-color: var(--fill-color);\n",
              "    }\n",
              "    60% {\n",
              "      border-color: transparent;\n",
              "      border-right-color: var(--fill-color);\n",
              "    }\n",
              "    80% {\n",
              "      border-color: transparent;\n",
              "      border-right-color: var(--fill-color);\n",
              "      border-bottom-color: var(--fill-color);\n",
              "    }\n",
              "    90% {\n",
              "      border-color: transparent;\n",
              "      border-bottom-color: var(--fill-color);\n",
              "    }\n",
              "  }\n",
              "</style>\n",
              "\n",
              "  <script>\n",
              "    async function quickchart(key) {\n",
              "      const quickchartButtonEl =\n",
              "        document.querySelector('#' + key + ' button');\n",
              "      quickchartButtonEl.disabled = true;  // To prevent multiple clicks.\n",
              "      quickchartButtonEl.classList.add('colab-df-spinner');\n",
              "      try {\n",
              "        const charts = await google.colab.kernel.invokeFunction(\n",
              "            'suggestCharts', [key], {});\n",
              "      } catch (error) {\n",
              "        console.error('Error during call to suggestCharts:', error);\n",
              "      }\n",
              "      quickchartButtonEl.classList.remove('colab-df-spinner');\n",
              "      quickchartButtonEl.classList.add('colab-df-quickchart-complete');\n",
              "    }\n",
              "    (() => {\n",
              "      let quickchartButtonEl =\n",
              "        document.querySelector('#df-92f3a932-2ae9-4ebd-bb0f-bf8e36caa8d4 button');\n",
              "      quickchartButtonEl.style.display =\n",
              "        google.colab.kernel.accessAllowed ? 'block' : 'none';\n",
              "    })();\n",
              "  </script>\n",
              "</div>\n",
              "\n",
              "    </div>\n",
              "  </div>\n"
            ],
            "application/vnd.google.colaboratory.intrinsic+json": {
              "type": "dataframe",
              "variable_name": "taxi"
            }
          },
          "metadata": {},
          "execution_count": 3
        }
      ]
    },
    {
      "cell_type": "code",
      "source": [
        "taxi.columns"
      ],
      "metadata": {
        "colab": {
          "base_uri": "https://localhost:8080/"
        },
        "id": "JY_e-oCwRn25",
        "outputId": "c6774ccc-9561-4948-c738-e4dcd4f98092"
      },
      "execution_count": 4,
      "outputs": [
        {
          "output_type": "execute_result",
          "data": {
            "text/plain": [
              "Index(['VendorID', 'tpep_pickup_datetime', 'tpep_dropoff_datetime',\n",
              "       'passenger_count', 'trip_distance', 'RatecodeID', 'store_and_fwd_flag',\n",
              "       'PULocationID', 'DOLocationID', 'payment_type', 'fare_amount', 'extra',\n",
              "       'mta_tax', 'tip_amount', 'tolls_amount', 'improvement_surcharge',\n",
              "       'total_amount', 'congestion_surcharge', 'airport_fee'],\n",
              "      dtype='object')"
            ]
          },
          "metadata": {},
          "execution_count": 4
        }
      ]
    },
    {
      "cell_type": "markdown",
      "source": [
        "## Descripción del Dataset\n",
        "\n",
        "El diccionario de los datos puede encontrarse [acá](https://www1.nyc.gov/assets/tlc/downloads/pdf/data_dictionary_trip_records_yellow.pdf):\n",
        "\n",
        "| Field Name      | Description |\n",
        "| ----------- | ----------- |\n",
        "| VendorID      | A code indicating the TPEP provider that provided the record. 1= Creative Mobile Technologies, LLC; 2= VeriFone Inc.       |\n",
        "| tpep_pickup_datetime   | The date and time when the meter was engaged.        |\n",
        "| tpep_dropoff_datetime   | The date and time when the meter was disengaged.        |\n",
        "| Passenger_count   | The number of passengers in the vehicle. This is a driver-entered value.      |\n",
        "| Trip_distance   | The elapsed trip distance in miles reported by the taximeter.      |\n",
        "| PULocationID   | TLC Taxi Zone in which the taximeter was engaged.      |\n",
        "| DOLocationID   | TLC Taxi Zone in which the taximeter was disengaged      |\n",
        "| RateCodeID   | The final rate code in effect at the end of the trip. 1= Standard rate, 2=JFK, 3=Newark, 4=Nassau or Westchester, 5=Negotiated fare, 6=Group ride     |\n",
        "| Store_and_fwd_flag | This flag indicates whether the trip record was held in vehicle memory before sending to the vendor, aka “store and forward,” because the vehicle did not have a connection to the server. Y= store and forward trip, N= not a store and forward trip |\n",
        "| Payment_type | A numeric code signifying how the passenger paid for the trip. 1= Credit card, 2= Cash, 3= No charge, 4= Dispute, 5= Unknown, 6= Voided trip |\n",
        "| Fare_amount | The time-and-distance fare calculated by the meter. |\n",
        "| Extra | Miscellaneous extras and surcharges. Currently, this only includes the \\$0.50 and \\$1 rush hour and overnight charges. |\n",
        "| MTA_tax | \\$0.50 MTA tax that is automatically triggered based on the metered rate in use. |\n",
        "| Improvement_surcharge | \\$0.30 improvement surcharge assessed trips at the flag drop. The improvement surcharge began being levied in 2015. |\n",
        "| Tip_amount | Tip amount – This field is automatically populated for credit card tips. Cash tips are not included. |\n",
        "| Tolls_amount | Total amount of all tolls paid in trip. |\n",
        "| Total_amount | The total amount charged to passengers. Does not include cash tips. |"
      ],
      "metadata": {
        "id": "O6vg-sxZCfM7"
      }
    },
    {
      "cell_type": "markdown",
      "source": [
        "## Definimos las características con las que realizaremos la clasificación.\n",
        "\n",
        "Las construiremos a continuación en la etapa de pre-procesamiento de los datos."
      ],
      "metadata": {
        "id": "ABVgggM5xZA6"
      }
    },
    {
      "cell_type": "code",
      "source": [
        "numeric_feat = [\n",
        "    \"pickup_weekday\",\n",
        "    \"pickup_hour\",\n",
        "    'work_hours',\n",
        "    \"pickup_minute\",\n",
        "    \"passenger_count\",\n",
        "    'trip_distance',\n",
        "    'trip_time',\n",
        "    'trip_speed'\n",
        "]\n",
        "categorical_feat = [\n",
        "    \"PULocationID\",\n",
        "    \"DOLocationID\",\n",
        "    \"RatecodeID\",\n",
        "]\n",
        "features = numeric_feat + categorical_feat\n",
        "EPS = 1e-7"
      ],
      "metadata": {
        "id": "lHGwTvbNSMCc"
      },
      "execution_count": 5,
      "outputs": []
    },
    {
      "cell_type": "code",
      "source": [
        "def preprocess(df, target_col):\n",
        "\n",
        "   # Basic cleaning\n",
        "    df = df[df['fare_amount'] > 0].reset_index(drop=True)  # avoid divide-by-zero\n",
        "    # add target\n",
        "    df['tip_fraction'] = df['tip_amount'] / df['fare_amount']\n",
        "    df[target_col] = df['tip_fraction'] > 0.2\n",
        "\n",
        "    # add features\n",
        "    df['pickup_weekday'] = df['tpep_pickup_datetime'].dt.weekday\n",
        "    df['pickup_hour'] = df['tpep_pickup_datetime'].dt.hour\n",
        "    df['pickup_minute'] = df['tpep_pickup_datetime'].dt.minute\n",
        "    df['work_hours'] = (df['pickup_weekday'] >= 0) & (df['pickup_weekday'] <= 4) & (df['pickup_hour'] >= 8) & (df['pickup_hour'] <= 18)\n",
        "    df['trip_time'] = (df['tpep_dropoff_datetime'] - df['tpep_pickup_datetime']).dt.seconds\n",
        "    df['trip_speed'] = df['trip_distance'] / (df['trip_time'] + EPS)\n",
        "\n",
        "    # drop unused columns\n",
        "    df = df[['tpep_dropoff_datetime'] + features + [target_col]]\n",
        "    df[features + [target_col]] = df[features + [target_col]].astype(\"float32\").fillna(-1.0)\n",
        "\n",
        "    # convert target to int32 for efficiency (it's just 0s and 1s)\n",
        "    df[target_col] = df[target_col].astype(\"int32\")\n",
        "\n",
        "    return df.reset_index(drop=True)\n"
      ],
      "metadata": {
        "id": "Ohh4oSUIR7o1"
      },
      "execution_count": 6,
      "outputs": []
    },
    {
      "cell_type": "code",
      "source": [
        "target_col = \"high_tip\"\n",
        "\n",
        "taxi_train = preprocess(df=taxi, target_col=target_col)"
      ],
      "metadata": {
        "id": "bdB5sLXERLBs"
      },
      "execution_count": 7,
      "outputs": []
    },
    {
      "cell_type": "code",
      "source": [
        "print(f'Num rows: {len(taxi_train)}, Size: {taxi_train.memory_usage(deep=True).sum() / 1e9} GB')"
      ],
      "metadata": {
        "colab": {
          "base_uri": "https://localhost:8080/"
        },
        "id": "XjQk9Y1uiLmK",
        "outputId": "54ffdfd3-4b59-464a-a405-d1b800173046"
      },
      "execution_count": 8,
      "outputs": [
        {
          "output_type": "stream",
          "name": "stdout",
          "text": [
            "Num rows: 6382762, Size: 0.3574348 GB\n"
          ]
        }
      ]
    },
    {
      "cell_type": "markdown",
      "source": [
        "## Ajustamos el modelo con los datos de entrenamiento\n",
        "\n",
        "Este proceso se puede demorar bastante (¡en mi caso fueron 30 minutos!), pero podemos realizar una prueba mas pequeña reduciendo la cantidad de ejemplos de entrenamiento. Por ejemplo podríamos agregar la siguiente celda:\n",
        "\n",
        "`taxi_train = taxi_train.head(100000)`"
      ],
      "metadata": {
        "id": "NYRUt7zvxpZ9"
      }
    },
    {
      "cell_type": "code",
      "source": [
        "taxi_train = taxi_train.head(100000)"
      ],
      "metadata": {
        "id": "5Y0pYFTEG1I0"
      },
      "execution_count": 9,
      "outputs": []
    },
    {
      "cell_type": "code",
      "source": [
        "%%time\n",
        "\n",
        "rfc = RandomForestClassifier(n_estimators=100, max_depth=10)\n",
        "\n",
        "rfc.fit(taxi_train[features], taxi_train[target_col])"
      ],
      "metadata": {
        "colab": {
          "base_uri": "https://localhost:8080/",
          "height": 109
        },
        "id": "xamM8zyVTrKB",
        "outputId": "3585c2ed-41b6-44f8-dc8e-bbbc54548c57"
      },
      "execution_count": 10,
      "outputs": [
        {
          "output_type": "stream",
          "name": "stdout",
          "text": [
            "CPU times: user 15.9 s, sys: 198 ms, total: 16.1 s\n",
            "Wall time: 22 s\n"
          ]
        },
        {
          "output_type": "execute_result",
          "data": {
            "text/plain": [
              "RandomForestClassifier(max_depth=10)"
            ],
            "text/html": [
              "<style>#sk-container-id-1 {color: black;}#sk-container-id-1 pre{padding: 0;}#sk-container-id-1 div.sk-toggleable {background-color: white;}#sk-container-id-1 label.sk-toggleable__label {cursor: pointer;display: block;width: 100%;margin-bottom: 0;padding: 0.3em;box-sizing: border-box;text-align: center;}#sk-container-id-1 label.sk-toggleable__label-arrow:before {content: \"▸\";float: left;margin-right: 0.25em;color: #696969;}#sk-container-id-1 label.sk-toggleable__label-arrow:hover:before {color: black;}#sk-container-id-1 div.sk-estimator:hover label.sk-toggleable__label-arrow:before {color: black;}#sk-container-id-1 div.sk-toggleable__content {max-height: 0;max-width: 0;overflow: hidden;text-align: left;background-color: #f0f8ff;}#sk-container-id-1 div.sk-toggleable__content pre {margin: 0.2em;color: black;border-radius: 0.25em;background-color: #f0f8ff;}#sk-container-id-1 input.sk-toggleable__control:checked~div.sk-toggleable__content {max-height: 200px;max-width: 100%;overflow: auto;}#sk-container-id-1 input.sk-toggleable__control:checked~label.sk-toggleable__label-arrow:before {content: \"▾\";}#sk-container-id-1 div.sk-estimator input.sk-toggleable__control:checked~label.sk-toggleable__label {background-color: #d4ebff;}#sk-container-id-1 div.sk-label input.sk-toggleable__control:checked~label.sk-toggleable__label {background-color: #d4ebff;}#sk-container-id-1 input.sk-hidden--visually {border: 0;clip: rect(1px 1px 1px 1px);clip: rect(1px, 1px, 1px, 1px);height: 1px;margin: -1px;overflow: hidden;padding: 0;position: absolute;width: 1px;}#sk-container-id-1 div.sk-estimator {font-family: monospace;background-color: #f0f8ff;border: 1px dotted black;border-radius: 0.25em;box-sizing: border-box;margin-bottom: 0.5em;}#sk-container-id-1 div.sk-estimator:hover {background-color: #d4ebff;}#sk-container-id-1 div.sk-parallel-item::after {content: \"\";width: 100%;border-bottom: 1px solid gray;flex-grow: 1;}#sk-container-id-1 div.sk-label:hover label.sk-toggleable__label {background-color: #d4ebff;}#sk-container-id-1 div.sk-serial::before {content: \"\";position: absolute;border-left: 1px solid gray;box-sizing: border-box;top: 0;bottom: 0;left: 50%;z-index: 0;}#sk-container-id-1 div.sk-serial {display: flex;flex-direction: column;align-items: center;background-color: white;padding-right: 0.2em;padding-left: 0.2em;position: relative;}#sk-container-id-1 div.sk-item {position: relative;z-index: 1;}#sk-container-id-1 div.sk-parallel {display: flex;align-items: stretch;justify-content: center;background-color: white;position: relative;}#sk-container-id-1 div.sk-item::before, #sk-container-id-1 div.sk-parallel-item::before {content: \"\";position: absolute;border-left: 1px solid gray;box-sizing: border-box;top: 0;bottom: 0;left: 50%;z-index: -1;}#sk-container-id-1 div.sk-parallel-item {display: flex;flex-direction: column;z-index: 1;position: relative;background-color: white;}#sk-container-id-1 div.sk-parallel-item:first-child::after {align-self: flex-end;width: 50%;}#sk-container-id-1 div.sk-parallel-item:last-child::after {align-self: flex-start;width: 50%;}#sk-container-id-1 div.sk-parallel-item:only-child::after {width: 0;}#sk-container-id-1 div.sk-dashed-wrapped {border: 1px dashed gray;margin: 0 0.4em 0.5em 0.4em;box-sizing: border-box;padding-bottom: 0.4em;background-color: white;}#sk-container-id-1 div.sk-label label {font-family: monospace;font-weight: bold;display: inline-block;line-height: 1.2em;}#sk-container-id-1 div.sk-label-container {text-align: center;}#sk-container-id-1 div.sk-container {/* jupyter's `normalize.less` sets `[hidden] { display: none; }` but bootstrap.min.css set `[hidden] { display: none !important; }` so we also need the `!important` here to be able to override the default hidden behavior on the sphinx rendered scikit-learn.org. See: https://github.com/scikit-learn/scikit-learn/issues/21755 */display: inline-block !important;position: relative;}#sk-container-id-1 div.sk-text-repr-fallback {display: none;}</style><div id=\"sk-container-id-1\" class=\"sk-top-container\"><div class=\"sk-text-repr-fallback\"><pre>RandomForestClassifier(max_depth=10)</pre><b>In a Jupyter environment, please rerun this cell to show the HTML representation or trust the notebook. <br />On GitHub, the HTML representation is unable to render, please try loading this page with nbviewer.org.</b></div><div class=\"sk-container\" hidden><div class=\"sk-item\"><div class=\"sk-estimator sk-toggleable\"><input class=\"sk-toggleable__control sk-hidden--visually\" id=\"sk-estimator-id-1\" type=\"checkbox\" checked><label for=\"sk-estimator-id-1\" class=\"sk-toggleable__label sk-toggleable__label-arrow\">RandomForestClassifier</label><div class=\"sk-toggleable__content\"><pre>RandomForestClassifier(max_depth=10)</pre></div></div></div></div></div>"
            ]
          },
          "metadata": {},
          "execution_count": 10
        }
      ]
    },
    {
      "cell_type": "markdown",
      "source": [
        "## Calculamos la métrica f1-score en el conjunto de entrenamiento"
      ],
      "metadata": {
        "id": "EKZl34l6yhir"
      }
    },
    {
      "cell_type": "code",
      "source": [
        "%%time\n",
        "# Compute F1\n",
        "\n",
        "preds = rfc.predict_proba(taxi_train[features])"
      ],
      "metadata": {
        "colab": {
          "base_uri": "https://localhost:8080/"
        },
        "id": "Tz4md0ZoUgEH",
        "outputId": "fbf5f5dd-b165-4036-ee87-d011f33e8f29"
      },
      "execution_count": 11,
      "outputs": [
        {
          "output_type": "stream",
          "name": "stdout",
          "text": [
            "CPU times: user 1.24 s, sys: 18 ms, total: 1.26 s\n",
            "Wall time: 1.33 s\n"
          ]
        }
      ]
    },
    {
      "cell_type": "code",
      "source": [
        "preds"
      ],
      "metadata": {
        "colab": {
          "base_uri": "https://localhost:8080/"
        },
        "id": "5UCCDJ2zHg3k",
        "outputId": "40f5e321-677a-4603-b43a-d583a1e5f961"
      },
      "execution_count": 12,
      "outputs": [
        {
          "output_type": "execute_result",
          "data": {
            "text/plain": [
              "array([[0.39629314, 0.60370686],\n",
              "       [0.3996216 , 0.6003784 ],\n",
              "       [0.46784458, 0.53215542],\n",
              "       ...,\n",
              "       [0.44308805, 0.55691195],\n",
              "       [0.3994854 , 0.6005146 ],\n",
              "       [0.43974929, 0.56025071]])"
            ]
          },
          "metadata": {},
          "execution_count": 12
        }
      ]
    },
    {
      "cell_type": "code",
      "source": [
        "preds_labels = [p[1] for p in preds.round()]"
      ],
      "metadata": {
        "id": "3Aw7dZxNrA0g"
      },
      "execution_count": 13,
      "outputs": []
    },
    {
      "cell_type": "code",
      "source": [
        "preds_labels[0:10]"
      ],
      "metadata": {
        "colab": {
          "base_uri": "https://localhost:8080/"
        },
        "id": "snBEtpW6HuOS",
        "outputId": "5af2cad3-0701-46e3-e9da-614594778b8a"
      },
      "execution_count": 14,
      "outputs": [
        {
          "output_type": "execute_result",
          "data": {
            "text/plain": [
              "[1.0, 1.0, 1.0, 1.0, 0.0, 0.0, 0.0, 0.0, 0.0, 0.0]"
            ]
          },
          "metadata": {},
          "execution_count": 14
        }
      ]
    },
    {
      "cell_type": "code",
      "source": [
        "print(f'F1: {f1_score(taxi_train[target_col], preds_labels)}')"
      ],
      "metadata": {
        "colab": {
          "base_uri": "https://localhost:8080/"
        },
        "id": "P3eyROH_iUqp",
        "outputId": "e1b0bb7f-f1c6-43de-f1ab-e5722b265a6c"
      },
      "execution_count": 15,
      "outputs": [
        {
          "output_type": "stream",
          "name": "stdout",
          "text": [
            "F1: 0.6564396312539157\n"
          ]
        }
      ]
    },
    {
      "cell_type": "markdown",
      "source": [
        "## Exportamos el modelo a un archivo"
      ],
      "metadata": {
        "id": "aUeQx00_yojo"
      }
    },
    {
      "cell_type": "code",
      "source": [
        "import joblib\n",
        "\n",
        "joblib.dump(rfc, \"random_forest.joblib\")"
      ],
      "metadata": {
        "colab": {
          "base_uri": "https://localhost:8080/"
        },
        "id": "DK2cCa7mVUNa",
        "outputId": "cacfd951-a0bb-4f4b-ae1f-f5bc234d1976"
      },
      "execution_count": 16,
      "outputs": [
        {
          "output_type": "execute_result",
          "data": {
            "text/plain": [
              "['random_forest.joblib']"
            ]
          },
          "metadata": {},
          "execution_count": 16
        }
      ]
    },
    {
      "cell_type": "markdown",
      "source": [
        "El archivo aparecerá en el menú del lado izquierdo, como se muestra en la foto. Podemos guardarlo en nuestro equipo usando boton derecho -> Download. Será útil hacerlo porque lo seguiremos usando en el futuro.\n",
        "\n",
        "![CapturaCOLAB.JPG](data:image/jpeg;base64,/9j/4AAQSkZJRgABAQEAeAB4AAD/4REKRXhpZgAATU0AKgAAAAgABAE7AAIAAAAVAAAISodpAAQAAAABAAAIYJydAAEAAAAqAAAQ2OocAAcAAAgMAAAAPgAAAAAc6gAAAAgAAAAAAAAAAAAAAAAAAAAAAAAAAAAAAAAAAAAAAAAAAAAAAAAAAAAAAAAAAAAAAAAAAAAAAAAAAAAAAAAAAAAAAAAAAAAAAAAAAAAAAAAAAAAAAAAAAAAAAAAAAAAAAAAAAAAAAAAAAAAAAAAAAAAAAAAAAAAAAAAAAAAAAAAAAAAAAAAAAAAAAAAAAAAAAAAAAAAAAAAAAAAAAAAAAAAAAAAAAAAAAAAAAAAAAAAAAAAAAAAAAAAAAAAAAAAAAAAAAAAAAAAAAAAAAAAAAAAAAAAAAAAAAAAAAAAAAAAAAAAAAAAAAAAAAAAAAAAAAAAAAAAAAAAAAAAAAAAAAAAAAAAAAAAAAAAAAAAAAAAAAAAAAAAAAAAAAAAAAAAAAAAAAAAAAAAAAAAAAAAAAAAAAAAAAAAAAAAAAAAAAAAAAAAAAAAAAAAAAAAAAAAAAAAAAAAAAAAAAAAAAAAAAAAAAAAAAAAAAAAAAAAAAAAAAAAAAAAAAAAAAAAAAAAAAAAAAAAAAAAAAAAAAAAAAAAAAAAAAAAAAAAAAAAAAAAAAAAAAAAAAAAAAAAAAAAAAAAAAAAAAAAAAAAAAAAAAAAAAAAAAAAAAAAAAAAAAAAAAAAAAAAAAAAAAAAAAAAAAAAAAAAAAAAAAAAAAAAAAAAAAAAAAAAAAAAAAAAAAAAAAAAAAAAAAAAAAAAAAAAAAAAAAAAAAAAAAAAAAAAAAAAAAAAAAAAAAAAAAAAAAAAAAAAAAAAAAAAAAAAAAAAAAAAAAAAAAAAAAAAAAAAAAAAAAAAAAAAAAAAAAAAAAAAAAAAAAAAAAAAAAAAAAAAAAAAAAAAAAAAAAAAAAAAAAAAAAAAAAAAAAAAAAAAAAAAAAAAAAAAAAAAAAAAAAAAAAAAAAAAAAAAAAAAAAAAAAAAAAAAAAAAAAAAAAAAAAAAAAAAAAAAAAAAAAAAAAAAAAAAAAAAAAAAAAAAAAAAAAAAAAAAAAAAAAAAAAAAAAAAAAAAAAAAAAAAAAAAAAAAAAAAAAAAAAAAAAAAAAAAAAAAAAAAAAAAAAAAAAAAAAAAAAAAAAAAAAAAAAAAAAAAAAAAAAAAAAAAAAAAAAAAAAAAAAAAAAAAAAAAAAAAAAAAAAAAAAAAAAAAAAAAAAAAAAAAAAAAAAAAAAAAAAAAAAAAAAAAAAAAAAAAAAAAAAAAAAAAAAAAAAAAAAAAAAAAAAAAAAAAAAAAAAAAAAAAAAAAAAAAAAAAAAAAAAAAAAAAAAAAAAAAAAAAAAAAAAAAAAAAAAAAAAAAAAAAAAAAAAAAAAAAAAAAAAAAAAAAAAAAAAAAAAAAAAAAAAAAAAAAAAAAAAAAAAAAAAAAAAAAAAAAAAAAAAAAAAAAAAAAAAAAAAAAAAAAAAAAAAAAAAAAAAAAAAAAAAAAAAAAAAAAAAAAAAAAAAAAAAAAAAAAAAAAAAAAAAAAAAAAAAAAAAAAAAAAAAAAAAAAAAAAAAAAAAAAAAAAAAAAAAAAAAAAAAAAAAAAAAAAAAAAAAAAAAAAAAAAAAAAAAAAAAAAAAAAAAAAAAAAAAAAAAAAAAAAAAAAAAAAAAAAAAAAAAAAAAAAAAAAAAAAAAAAAAAAAAAAAAAAAAAAAAAAAAAAAAAAAAAAAAAAAAAAAAAAAAAAAAAAAAAAAAAAAAAAAAAAAAAAAAAAAAAAAAAAAAAAAAAAAAAAAAAAAAAAAAAAAAAAAAAAAAAAAAAAAAAAAAAAAAAAAAAAAAAAAAAAAAAAAAAAAAAAAAAAAAAAAAAAAAAAAAAAAAAAAAAAAAAAAAAAAAAAAAAAAAAAAAAAAAAAAAAAAAAAAAAAAAAAAAAAAAAAAAAAAAAAAAAAAAAAAAAAAAAAAAAAAAAAAAAAAAAAAAAAAAAAAAAAAAAAAAAAAAAAAAAAAAAAAAAAAAAAAAAAAAAAAAAAAAAAAAAAAAAAAAAAAAAAAAAAAAAAAAAAAAAAAAAAAAAAAAAAAAAAAAAAAAAAAAAAAAAAAAAAAAAAAAAAAAAAAAAAAAAAAAAAAAAAAAAAAAAAAAAAAAAAAAAAAAAAAAAAAAAAAAAAAAAAAAAAAAAAAAAAAAAAAAAAAAAAAAAAAAAAAAAAAAAAAAAAAAAAAAAAAAAAAAAAAAAAAAAAAAAAAAAAAAAAAAAAAAAAAAAAAAAAAAAAAAAAAAAAAAAAAAAAAAAAAAAAAAAAAAAAAAAAAAAAAAAAAAAAAAAAAAAAAAAAAAAAAAAAAAAAAAAAAAAAAAAAAAAAAAAAAAAAAAAAAAAAAAAAAAAAAAAAAAAAAAAAAAAAAAAAAAAAAAAAAAAAAAAAAAAAAAAAAAAAAAAAAAAAAAAAAAAAAAAAAAAAAAAAAAAAAAAAAAAAAAAAAAAAAAAAAAAAAAAAAAAAAAAAAAAAAAAAAAAAAAAAAAAAAAAAAAAAAAAAAAAAAAAAAAAAAAAAAAAAAAAAAAAAAAAAAAAAAAAAAAAAAAAAAAAAAAAAAAAAAAAAAAAAAAAAAAAAAAAAAAAAAAAAAAAAAAAAAAAAAAAAAAAAAAAAAAAAAAAAAAAAAAAAAAAAAAAAAAAAAAAAAAAAAAAAAAAAAAAAAAAAAAAAAAAAAAAAAAAAAAAAAAAAAAAAAAAAAAAAAAAAAAAAAAAAAAAAAAAAAAAAAAAAAAAAAAAAAAAAAAAAAAAAAAAAAAAAAAAAAAAAAAAAAAAAAAAAAAAAAAAAAAAAAAAAAAAAAAEFsb25zbyBBc3Ryb3phIFRhZ2xlAAAABZADAAIAAAAUAAAQrpAEAAIAAAAUAAAQwpKRAAIAAAADNjQAAJKSAAIAAAADNjQAAOocAAcAAAgMAAAIogAAAAAc6gAAAAgAAAAAAAAAAAAAAAAAAAAAAAAAAAAAAAAAAAAAAAAAAAAAAAAAAAAAAAAAAAAAAAAAAAAAAAAAAAAAAAAAAAAAAAAAAAAAAAAAAAAAAAAAAAAAAAAAAAAAAAAAAAAAAAAAAAAAAAAAAAAAAAAAAAAAAAAAAAAAAAAAAAAAAAAAAAAAAAAAAAAAAAAAAAAAAAAAAAAAAAAAAAAAAAAAAAAAAAAAAAAAAAAAAAAAAAAAAAAAAAAAAAAAAAAAAAAAAAAAAAAAAAAAAAAAAAAAAAAAAAAAAAAAAAAAAAAAAAAAAAAAAAAAAAAAAAAAAAAAAAAAAAAAAAAAAAAAAAAAAAAAAAAAAAAAAAAAAAAAAAAAAAAAAAAAAAAAAAAAAAAAAAAAAAAAAAAAAAAAAAAAAAAAAAAAAAAAAAAAAAAAAAAAAAAAAAAAAAAAAAAAAAAAAAAAAAAAAAAAAAAAAAAAAAAAAAAAAAAAAAAAAAAAAAAAAAAAAAAAAAAAAAAAAAAAAAAAAAAAAAAAAAAAAAAAAAAAAAAAAAAAAAAAAAAAAAAAAAAAAAAAAAAAAAAAAAAAAAAAAAAAAAAAAAAAAAAAAAAAAAAAAAAAAAAAAAAAAAAAAAAAAAAAAAAAAAAAAAAAAAAAAAAAAAAAAAAAAAAAAAAAAAAAAAAAAAAAAAAAAAAAAAAAAAAAAAAAAAAAAAAAAAAAAAAAAAAAAAAAAAAAAAAAAAAAAAAAAAAAAAAAAAAAAAAAAAAAAAAAAAAAAAAAAAAAAAAAAAAAAAAAAAAAAAAAAAAAAAAAAAAAAAAAAAAAAAAAAAAAAAAAAAAAAAAAAAAAAAAAAAAAAAAAAAAAAAAAAAAAAAAAAAAAAAAAAAAAAAAAAAAAAAAAAAAAAAAAAAAAAAAAAAAAAAAAAAAAAAAAAAAAAAAAAAAAAAAAAAAAAAAAAAAAAAAAAAAAAAAAAAAAAAAAAAAAAAAAAAAAAAAAAAAAAAAAAAAAAAAAAAAAAAAAAAAAAAAAAAAAAAAAAAAAAAAAAAAAAAAAAAAAAAAAAAAAAAAAAAAAAAAAAAAAAAAAAAAAAAAAAAAAAAAAAAAAAAAAAAAAAAAAAAAAAAAAAAAAAAAAAAAAAAAAAAAAAAAAAAAAAAAAAAAAAAAAAAAAAAAAAAAAAAAAAAAAAAAAAAAAAAAAAAAAAAAAAAAAAAAAAAAAAAAAAAAAAAAAAAAAAAAAAAAAAAAAAAAAAAAAAAAAAAAAAAAAAAAAAAAAAAAAAAAAAAAAAAAAAAAAAAAAAAAAAAAAAAAAAAAAAAAAAAAAAAAAAAAAAAAAAAAAAAAAAAAAAAAAAAAAAAAAAAAAAAAAAAAAAAAAAAAAAAAAAAAAAAAAAAAAAAAAAAAAAAAAAAAAAAAAAAAAAAAAAAAAAAAAAAAAAAAAAAAAAAAAAAAAAAAAAAAAAAAAAAAAAAAAAAAAAAAAAAAAAAAAAAAAAAAAAAAAAAAAAAAAAAAAAAAAAAAAAAAAAAAAAAAAAAAAAAAAAAAAAAAAAAAAAAAAAAAAAAAAAAAAAAAAAAAAAAAAAAAAAAAAAAAAAAAAAAAAAAAAAAAAAAAAAAAAAAAAAAAAAAAAAAAAAAAAAAAAAAAAAAAAAAAAAAAAAAAAAAAAAAAAAAAAAAAAAAAAAAAAAAAAAAAAAAAAAAAAAAAAAAAAAAAAAAAAAAAAAAAAAAAAAAAAAAAAAAAAAAAAAAAAAAAAAAAAAAAAAAAAAAAAAAAAAAAAAAAAAAAAAAAAAAAAAAAAAAAAAAAAAAAAAAAAAAAAAAAAAAAAAAAAAAAAAAAAAAAAAAAAAAAAAAAAAAAAAAAAAAAAAAAAAAAAAAAAAAAAAAAAAAAAAAAAAAAAAAAAAAAAAAAAAAAAAAAAAAAAAAAAAAAAAAAAAAAAAAAAAAAAAAAAAAAAAAAAAAAAAAAAAAAAAAAAAAAAAAAAAAAAAAAAAAAAAAAAAAAAAAAAAAAAAAAAAAAAAAAAAAAAAAAAAAAAAAAAAAAAAAAAAAAAAAAAAAAAAAAAAAAAAAAAAAAAAAAAAAAAAAAAAAAAAAAAAAAAAAAAAAAAAAAAAAAAAAAAAAAAAAAAAAAAAAAAAAAAAAAAAAAAAAAAAAAAAAAAAAAAAAAAAAAAAAAAAAAAAAAAAAAAAAAAAAAAAAAAAAAAAAAAAAAAAAAAAAAAAAAAAAAAAAAAAAAAAAAAAAAAAAAAAAAAAAAAAAAAAAAAAAAAAAAAAAAAAAAAAAAAAAAAAAAAAAAAAAAAAAAAAAAAAAAAAAAAAAAAAAAAAAAAAAAAAAAAAAAAAAAAAAAAAAAAAAAAAAAAAAAAAAAAAAAAAAAAAAAAAAAAAAAAAAAAAAAAAAAAAAAAAAAAAAAAAAAAAAAAAAAAAAAAAAAAAAAAAAAAAAAAAAAAAAAAAAAAAAAAAAAAAAAAAAAAAAAAAAAAAAAAAAAAAAAAAAAAAAAAAAAAAAAAAAAAAAAAAAAAAAAAAAAAAAAAAAAAAAAAAAAAAAAAAAAAAAAAAAAAAAAAAAAAAAAAAAAAAAAAAAAAAAAAAAAAAAAAAAAAAAAAAAAAAAAAAAAAAAAAAAAAAAAAAAAAAAAAAAAAAAAAAAAAAAAAAAAAAAAAAAAAAAAAAAAAAAAAAAAAAAAAAAAAAAAAAAAAAAAAAAAAAAAAAAAAAAAAAAAAAAAAAAAAAAAAAAAAAAAAAAAAAAAAAAAAAAAAAAAAADIwMjI6MDY6MjQgMTg6MTc6NTMAMjAyMjowNjoyNCAxODoxNzo1MwAAAEEAbABvAG4AcwBvACAAQQBzAHQAcgBvAHoAYQAgAFQAYQBnAGwAZQAAAP/hCydodHRwOi8vbnMuYWRvYmUuY29tL3hhcC8xLjAvADw/eHBhY2tldCBiZWdpbj0n77u/JyBpZD0nVzVNME1wQ2VoaUh6cmVTek5UY3prYzlkJz8+DQo8eDp4bXBtZXRhIHhtbG5zOng9ImFkb2JlOm5zOm1ldGEvIj48cmRmOlJERiB4bWxuczpyZGY9Imh0dHA6Ly93d3cudzMub3JnLzE5OTkvMDIvMjItcmRmLXN5bnRheC1ucyMiPjxyZGY6RGVzY3JpcHRpb24gcmRmOmFib3V0PSJ1dWlkOmZhZjViZGQ1LWJhM2QtMTFkYS1hZDMxLWQzM2Q3NTE4MmYxYiIgeG1sbnM6ZGM9Imh0dHA6Ly9wdXJsLm9yZy9kYy9lbGVtZW50cy8xLjEvIi8+PHJkZjpEZXNjcmlwdGlvbiByZGY6YWJvdXQ9InV1aWQ6ZmFmNWJkZDUtYmEzZC0xMWRhLWFkMzEtZDMzZDc1MTgyZjFiIiB4bWxuczp4bXA9Imh0dHA6Ly9ucy5hZG9iZS5jb20veGFwLzEuMC8iPjx4bXA6Q3JlYXRlRGF0ZT4yMDIyLTA2LTI0VDE4OjE3OjUzLjY0MzwveG1wOkNyZWF0ZURhdGU+PC9yZGY6RGVzY3JpcHRpb24+PHJkZjpEZXNjcmlwdGlvbiByZGY6YWJvdXQ9InV1aWQ6ZmFmNWJkZDUtYmEzZC0xMWRhLWFkMzEtZDMzZDc1MTgyZjFiIiB4bWxuczpkYz0iaHR0cDovL3B1cmwub3JnL2RjL2VsZW1lbnRzLzEuMS8iPjxkYzpjcmVhdG9yPjxyZGY6U2VxIHhtbG5zOnJkZj0iaHR0cDovL3d3dy53My5vcmcvMTk5OS8wMi8yMi1yZGYtc3ludGF4LW5zIyI+PHJkZjpsaT5BbG9uc28gQXN0cm96YSBUYWdsZTwvcmRmOmxpPjwvcmRmOlNlcT4NCgkJCTwvZGM6Y3JlYXRvcj48L3JkZjpEZXNjcmlwdGlvbj48L3JkZjpSREY+PC94OnhtcG1ldGE+DQogICAgICAgICAgICAgICAgICAgICAgICAgICAgICAgICAgICAgICAgICAgICAgICAgICAgICAgICAgICAgICAgICAgICAgICAgICAgICAgICAgICAgICAgICAgICAgICAgICAgCiAgICAgICAgICAgICAgICAgICAgICAgICAgICAgICAgICAgICAgICAgICAgICAgICAgICAgICAgICAgICAgICAgICAgICAgICAgICAgICAgICAgICAgICAgICAgICAgICAgICAKICAgICAgICAgICAgICAgICAgICAgICAgICAgICAgICAgICAgICAgICAgICAgICAgICAgICAgICAgICAgICAgICAgICAgICAgICAgICAgICAgICAgICAgICAgICAgICAgICAgIAogICAgICAgICAgICAgICAgICAgICAgICAgICAgICAgICAgICAgICAgICAgICAgICAgICAgICAgICAgICAgICAgICAgICAgICAgICAgICAgICAgICAgICAgICAgICAgICAgICAgCiAgICAgICAgICAgICAgICAgICAgICAgICAgICAgICAgICAgICAgICAgICAgICAgICAgICAgICAgICAgICAgICAgICAgICAgICAgICAgICAgICAgICAgICAgICAgICAgICAgICAKICAgICAgICAgICAgICAgICAgICAgICAgICAgICAgICAgICAgICAgICAgICAgICAgICAgICAgICAgICAgICAgICAgICAgICAgICAgICAgICAgICAgICAgICAgICAgICAgICAgIAogICAgICAgICAgICAgICAgICAgICAgICAgICAgICAgICAgICAgICAgICAgICAgICAgICAgICAgICAgICAgICAgICAgICAgICAgICAgICAgICAgICAgICAgICAgICAgICAgICAgCiAgICAgICAgICAgICAgICAgICAgICAgICAgICAgICAgICAgICAgICAgICAgICAgICAgICAgICAgICAgICAgICAgICAgICAgICAgICAgICAgICAgICAgICAgICAgICAgICAgICAKICAgICAgICAgICAgICAgICAgICAgICAgICAgICAgICAgICAgICAgICAgICAgICAgICAgICAgICAgICAgICAgICAgICAgICAgICAgICAgICAgICAgICAgICAgICAgICAgICAgIAogICAgICAgICAgICAgICAgICAgICAgICAgICAgICAgICAgICAgICAgICAgICAgICAgICAgICAgICAgICAgICAgICAgICAgICAgICAgICAgICAgICAgICAgICAgICAgICAgICAgCiAgICAgICAgICAgICAgICAgICAgICAgICAgICAgICAgICAgICAgICAgICAgICAgICAgICAgICAgICAgICAgICAgICAgICAgICAgICAgICAgICAgICAgICAgICAgICAgICAgICAKICAgICAgICAgICAgICAgICAgICAgICAgICAgICAgICAgICAgICAgICAgICAgICAgICAgICAgICAgICAgICAgICAgICAgICAgICAgICAgICAgICAgICAgICAgICAgICAgICAgIAogICAgICAgICAgICAgICAgICAgICAgICAgICAgICAgICAgICAgICAgICAgICAgICAgICAgICAgICAgICAgICAgICAgICAgICAgICAgICAgICAgICAgICAgICAgICAgICAgICAgCiAgICAgICAgICAgICAgICAgICAgICAgICAgICAgICAgICAgICAgICAgICAgICAgICAgICAgICAgICAgICAgICAgICAgICAgICAgICAgICAgICAgICAgICAgICAgICAgICAgICAKICAgICAgICAgICAgICAgICAgICAgICAgICAgICAgICAgICAgICAgICAgICAgICAgICAgICAgICAgICAgICAgICAgICAgICAgICAgICAgICAgICAgICAgICAgICAgICAgICAgIAogICAgICAgICAgICAgICAgICAgICAgICAgICAgICAgICAgICAgICAgICAgICAgICAgICAgICAgICAgICAgICAgICAgICAgICAgICAgICAgICAgICAgICAgICAgICAgICAgICAgCiAgICAgICAgICAgICAgICAgICAgICAgICAgICAgICAgICAgICAgICAgICAgICAgICAgICAgICAgICAgICAgICAgICAgICAgICAgICAgICAgICAgICAgICAgICAgICAgICAgICAKICAgICAgICAgICAgICAgICAgICAgICAgICAgICAgICAgICAgICAgICAgICAgICAgICAgICAgICAgICAgICAgICAgICAgICAgICAgICAgICAgICAgICAgICAgICAgICAgICAgIAogICAgICAgICAgICAgICAgICAgICAgICAgICAgICAgICAgICAgICAgICAgICAgICAgICAgICAgICAgICAgICAgICAgICAgICAgICAgICAgICAgICAgICAgICAgICAgICAgICAgCiAgICAgICAgICAgICAgICAgICAgICAgICAgICAgICAgICAgICAgICAgICAgICAgICAgICAgICAgICAgICAgICAgICAgICAgICAgICAgICAgICAgICAgICAgICAgICAgICAgICAKICAgICAgICAgICAgICAgICAgICAgICAgICAgIDw/eHBhY2tldCBlbmQ9J3cnPz7/2wBDAAcFBQYFBAcGBQYIBwcIChELCgkJChUPEAwRGBUaGRgVGBcbHichGx0lHRcYIi4iJSgpKywrGiAvMy8qMicqKyr/2wBDAQcICAoJChQLCxQqHBgcKioqKioqKioqKioqKioqKioqKioqKioqKioqKioqKioqKioqKioqKioqKioqKioqKir/wAARCAD3ARwDASIAAhEBAxEB/8QAHwAAAQUBAQEBAQEAAAAAAAAAAAECAwQFBgcICQoL/8QAtRAAAgEDAwIEAwUFBAQAAAF9AQIDAAQRBRIhMUEGE1FhByJxFDKBkaEII0KxwRVS0fAkM2JyggkKFhcYGRolJicoKSo0NTY3ODk6Q0RFRkdISUpTVFVWV1hZWmNkZWZnaGlqc3R1dnd4eXqDhIWGh4iJipKTlJWWl5iZmqKjpKWmp6ipqrKztLW2t7i5usLDxMXGx8jJytLT1NXW19jZ2uHi4+Tl5ufo6erx8vP09fb3+Pn6/8QAHwEAAwEBAQEBAQEBAQAAAAAAAAECAwQFBgcICQoL/8QAtREAAgECBAQDBAcFBAQAAQJ3AAECAxEEBSExBhJBUQdhcRMiMoEIFEKRobHBCSMzUvAVYnLRChYkNOEl8RcYGRomJygpKjU2Nzg5OkNERUZHSElKU1RVVldYWVpjZGVmZ2hpanN0dXZ3eHl6goOEhYaHiImKkpOUlZaXmJmaoqOkpaanqKmqsrO0tba3uLm6wsPExcbHyMnK0tPU1dbX2Nna4uPk5ebn6Onq8vP09fb3+Pn6/9oADAMBAAIRAxEAPwD6RooooAKKKKACiiigAooooAKKKKACiiigAooooAKKKKACiiigAooooAKKKKACiiigAoorP1+eS18N6nPAxSWK0ldGHUEISDQBoUV5r4a+HWh6z4ZsNRv2vJLm6hEsrfaDyx6msnx78PItK021k8MWWoXU7zFZBGXmIXB7Acc0AewUV8ypp/iLRJ4r6ax1KxWORf30kMkag56ZIHWvpqgAopk6PJbyJDKYZGQhJAoOw44ODwcVwPh/xRqPh3W/+Ea8bSlndv8AQ9RY/LMCeAT/AF7dDQB6DRXFeLfFt1/aC+G/Cai41mcYkkH3bVe7E+v8vyFdRo9pc2Gj2trf3jXtxFGFkuHGC59f/rnk9+aALtFFFABXjnha4+J/jHS5tUsPFlhaQC6lhSKWwRmGxiOoWvYz0rw/4a+B7zXfC897B4v17Ska/uF+zWNwEjGHPOMdTUr4vl+qG/h+f6M7mQ+KbHVvCtpe+KNJV3Mo1GGVFSS/xyPKXHYdcYx1OelO8EeI9S1nxR4ws9SnWS30vUBBaqEVdiYPBIHPTqawvFlq1j8TfhnaPcTXTQG4jM87ZeUiJRuY9yeprkNXuL628P8Axbk0xnWX+04ldk6iMth/w2k59s0+bRv1/OP+fyE46xXp+Uv8j2K08d+Fb/Vv7MsvEGnz3hbasKXCksfRT0J9hVnXPFOheGkjbXtVtbDzf9Ws0gDP9B1NeTax4U1S8+HVtDI3gXTNJVIntdRiM0bQkkbXWQ9GJ6nvk5rb1rQNQufHVlq+gan4f1PxBBpSQ3mmaid4ZOplj25ZclupAGD71TVnb+thJ3Vz0vTtSstXsUvNLu4Ly2k+5NBIHVvXkVZrifhlq1jqGm6pa22gQaDeWF88N9a2xVozN3YMoGc/pjFdtQ/IEFFFFIYUUUUAFFFFABRRRQAUUUUAFFFFABRRRQAUUUUAFZfib/kUtX/68Zv/AEWa1KrajZjUdLurJ3KLcwvCWAyVDKRn9aAMnwL/AMiHo/8A16rW/XCafoHjrSdPhsLHV9J+zW6COPfC27aOmeOtWPsHxD/6C+jf9+G/woAPir/yIsv/AF8Q/wDoYrs64HUfCvjDxBbLY65rGm/YjIryfZ4G3/Kc8ZArvqACvOfiNf2/iCaLwnpNmmoaq7hzJ2sx3JbscdR6fgK9DnjM1vJEsjRF0KiRPvLkdR7isTwt4SsvC1nIsDNcXU7bri7lHzynP6D2oA4nwXOngPxFc6D4kt44bi9ffBqfJWcdlLHoM/qefWvVKyfEnhuw8UaS9jqKe8Uqj5om9R/h3qzo+nnStHtbFrmW6NvGEM0x+Z/8/wAqALtFFFABWfomg6b4c082OjW32a3MjSlPMZ/mY5Y5Yk8mtCigDNv/AA9pep6xp2qX1r5t7pjO1pL5jL5ZYYbgHByB3Bplj4Z0fTrjU5rSyVX1aTzL3ezOJmwRyrEgDBPAwK1aKAOJtPg/4HstVS/g0NPMjk8xI3mkeJG9RGWK/hjArS8TfD7w14vuIrnXNOEtzCu1LiKRopAvpuUjI68HPU10lFHkBl+H/DekeFdLGn6BZJZ224uVUlizHqWYkkn3JrUooo3AKKKKACiiigAooooAKKKKACiiigAooooAKKKKACiiigAooooAKKKKACiiigAooooAKKKKACiiigAooooAKKKz9a1zTvD2nm91e4FvBuCA7SxZj0AA5J4P5UAaFFcZ/wALX8Jf8/0v/gO/+Fb2g+JtK8S28k2j3QmETbXUqVZfTIPOPegDVooooAKKKKACiiigAooooAKKKKACiiigAooooAKKKKACiiigAooooAKKbJLHCoaV1RSQoLHAyTgD86dQAUUUUAFFFFABRRRQAUUUUAFFFFABXAfE8B7rwyjgMramgKnkHkV39cD8Tf8Aj98L/wDYUT+YoA7P+ydO/wCfC1/78r/hXgssmv8Ah7x3qGpaNZXSBbybAWBjHIm88HAwVI/+tXp/j/4gReF7drLTys2qyLkKeVgU/wATe/oPxPHWfwl42tvFugzh9sGowwnz7fPUY++vqp/Tv2JANjwx4gg8T6BBqdvG0QfKvG38DDqM9x71r1w/wi/5EGL/AK+JP513FABRRRQBynxKv7rTvAd9PYzPBKSieYhwwBcA4PbivK4vBPj+eFJYoLpkkUMp+3oMgjI/jr0z4r/8k7vP+ukX/oYrqNJ/5Atl/wBe8f8A6CKAPO9Cl+Jui6Wlk2iQ3qxn5JLi6jLAemRJz+NWr7xX8QNKspb7UfDNjHawDdKwuFJC/g5P6Gu71TUrXR9Ln1C/kEdvAm52/kB7k4AHqa4bWvGssukv/wAJB4UuYdDuxt8x7tFmdDzny8hs8jgH8aAO20fUV1fRLPUEQxi6hSXYTnbkZxV2ud8B6jHqng2zmt7ZbaFN0UUSsW2qjFRyeegroqACiiigDlPiVf3WneA76exmeCUlE8xDhgC4Bwe3FeA/2tqP/P8A3X/f5v8AGvdviv8A8k7vP+ukX/oYr5+AycDk0Aek+B/HHiueNdF0y3ttSljUujXcm1go7ZyM/wA/yrQ1f4p+JtA1VrDVtHsY5owrMqsxyCM8EMRWppuiQeBfhwLy5QnVS63ShV+czYOyMDrgKWB9i5rN+Iz6R4p8NW2r2coj1K3QEwOpDlD1Q8dVJz+frQB6Zo+orq+iWeoIhjF1CkuwnO3IzirtYfgr/kRtG/684/8A0GtygAooooAwPGlnpN54WuRr0/2a2jHmLODho3H3Svqc9u9cF4Y8cXXiLR38O3GrSafqZG2zvyAPOx0V+uCfUc/1vfGu21CTSLCaJs2EUp82MDo5HysfbG4e2feuO8D6Taa74e8QWKQpJq4ijnsyfvDZnO09RyQD9RQB011ovxH0iCa4tfESX8sSbpbeOUyOB7K64/qa0PBfxVTV7xNN8Qxx2t05CxTpkJI2fukH7p6ex9uKq+DPEwv9TsbHxZHNaaxZsUtbuRShmXo0T56/j3wevXz3xfYS2/jzUraG1kiaS8cwxbcFgzfLtA7HPFAH0rRVLRoryDQ7KLU5BJeJAizuO74Gf171doAKKKKACiiigAooooAK8/8AinItu/hy4mOyGLUkaRyOFHB5/AH8q9Aqve2FpqVqbfULaK5hY5McqBh+RoA4PxjrHhTX9BvYrLVdNXUZ4kiS4lyCFEgbBYAnHBq1pfiPwhpeiJGup6eL77FHBPLEDmUom0c4BI9M1vf8IV4Z/wCgFYf9+Fo/4Qrwz/0ArD/vwtAGJ8I0Zfh/AWBAaeQr7jOP6Gu3pkEEVtAkNtEkMSDCpGoVVHoAOlPoAKKKKAOb8f6Pd674LvLLTkElwxR0QnG7awJGT3wKwLXxX4ytbOG3HgmVhFGqbvPxnAxnpXodFAHm+tXviPxJ4buFvfDc1lJZTRXSxbt4uVVssnTr0OO9aGs+LvBGraKt1qD2+oGIForR0zLvPG3aeQc8Z6V3FVU0ywjvDdx2VstyesyxKHP/AALGaAKnhmDyPDlov9mx6WWTe1pH0iLHOPrzz71q0UUAFFFFAHN+P9Hu9d8F3llpyCS4Yo6ITjdtYEjJ74FeIr4D8VowZNFu1ZTkEAAg/nX0lRQB5xb+JPGAuoLi+8G3Nw8FuI1C3ARd5+/JjaeTgAeg3cnJp2seJvGWp6RcWNl4OubKa4TyxObkPsB4PG0c4zznjrXotFAGb4csJdL8M6dY3OPOt7ZI5NpyAwUZ/WtKiigAooooAiubaG8tZLe6iWaGRdro4yGFeX6n8Jr7T9UXUfBupi3kVyyRysVMfsGAOR14I6eteq0UAeQ6p4V+I3iWKG01mWz8qF9ySMYxgjjdlV3fl+Vbnh+/Np4mtdG8bWsTazaqV07USMidDxw3r/8AX6Hr6FUbwQyzRSyRI8kJJjdlBKEjBwe2RxQBJRRRQAUUUUAFFFFACM6opZ2CqOpJwKj+1W//AD3i/wC+xUtFAEX2q3/57xf99ij7Vb/894v++xUtFAEX2q3/AOe8X/fYo+1W/wDz3i/77FS0UARfarf/AJ7xf99ij7Vb/wDPeL/vsVLRQBF9qt/+e8X/AH2KPtVv/wA94v8AvsVLRQBF9qt/+e8X/fYo+1W//PeL/vsVLRQBF9qt/wDnvF/32KPtVv8A894v++xUtFAEX2q3/wCe8X/fYo+1W/8Az3i/77FS0UARfarf/nvF/wB9ij7Vb/8APeL/AL7FS0UARfarf/nvF/32KPtVv/z3i/77FS0UARfarf8A57xf99ij7Vb/APPeL/vsVLRQBF9qt/8AnvF/32KPtVv/AM94v++xUtFAEX2q3/57xf8AfYo+1W//AD3i/wC+xUtFAEX2q3/57xf99ij7Vb/894v++xUtFAEX2q3/AOe8X/fYo+1W/wDz3i/77FS0UARfarf/AJ7xf99ij7Vb/wDPeL/vsVLRQBF9qt/+e8X/AH2KkBDKCpBBGQR3paKACiiigAooooAKKKKACivLviB8RtY8PeJjpulpbrHHErM0iFixYZ9eBWdoXxkvYLg/8JNaebbSLmN7WPawI9icEfjxQB7FRXng+NPhwn/jz1Qe/lR//F13Omajb6vpkF/ZMWguE3oSMHH0oAtUUUUAFFFFABRRRQAUUUUAFFFFABRRRQAUUUUAFFFFABRRRQAUUUUAFFFFABRRRQAUUUUAFFFFABRRRQAUUUUAeIeP/wCyh8VpG183H2JIYmdLZQWk+UfLyRgHuf8A9ddf8TLHw9B4RtjfWzwbCIbN7WNSYjtJCkZHy4FZ3xA+HGr+IfEp1PSpLdo5IlVklcqylRj05GMVQ1jwZ8RNftI7XV720uIY33ohdVw2CM/Ko7E0AeVnrx0r6P8Ah5/yT7SP+uJ/9CNeVj4PeKCf+XMe/n//AFq9l8M6S+heGbHTZZFlkt4gruvQt1OPbJoAnvNXsrC/sbO7m8u4v3aO2TYx8xlUsRkDA4BPOKLDV7LU5ryKxm817Gc29wNjLskABxyBnhhyMirtFABRRRQAUUUUAFFFFABRRRQAUUUUAFFFFABRRRQAUUUUAFFFFABRRRQAUUUUAFFFFABRRRQAUUUyOaObd5ThtjFGwfukdjQA+iiigAorz3xr8TpPC+vf2Za6ctyyRq8kkkhXk8gAAelVNA+MtleXTxa/bDT49uUmjLSDPoQBn8RQB6bRXJD4oeDycf2x/wCS03/xFdPaXUF9aRXVpKssEqhkdejD1oAmoqvfahZ6ZaNdaldwWdun3priURov1YnFLaX9nf2a3djdQXNs4ys0MgdGHqGHFAE9FUdO1zSdXeVNJ1SyvmhOJVtrhJDGffaTj8aibxNoKTxQvrenLLNI0UcZu4wzup2lQM8kEEEevFAGnRVGHW9KuNUk0231Ozlv4hmS1S4RpU+qA5H5VFc+JdCspPLvNa063fzTDtlu0U+YMZTBP3uRx15FAGnRWDrWu3OneJvDmnW6QtDqk80czOCWUJCzjaQcDkDrnitC51zSrPUYrC71OzgvJv8AVW0twiySf7qk5P4UAXqKKrahqVjpNqbrVL23srcEAzXMqxoCe2WIFAFmiud8P+JX1vxLr9mjW0llp7W/2aaA58xZIg5JbJB56YxxWnZa9pGpXM1vp2q2N3PB/rooLlHaP/eAOR+NGwF+iud0Lx1oHiPWb/TNJ1CCa4snCkLNGwmG0EvHtYllGcE4GDxWnb67pF3qUmnWuq2U19FnzLWO4RpUx1ygORQBfooooAKKKKACiiigAooooAKKKKACiiigAooooAK8psb7XYPjRqtto0fn2skqm7jkYiNV2j5iecH09elerVXtbC2s5biW3iVJLmTzJnxy7dOT7DigCxRSM6oMuwUepOKha9t1bBlGfYE1y1sZhsP/ABqkY+rS/MpRk9keD/Fr/koNz/1xi/8AQa4qvTPiV4Y1XV/FzX+l2xuoJokG5CBtIGCCDj656c1yf/CCeJf+gVJ/38T/ABqIY/B1FeFWL9JL/MOWS3Rz9fR/w8/5J9pH/XE/+hGvE0+H3ipwCmjTEHoQy4/nXvHhHTLjRvCOnWF6FFxDCBIqnIUkk4z7ZxXYmpK62JMTx5bWlzq/h8vqdpZajDPK9jHqNu0trO+zBVuVAYA5U7s9cA1zQ1fSrXwb4y+16FZu0F1GmoR2F4/2O6kcIN4YY2AZG8AdjnOa9RvtPstUtGtdTs4Ly3b70NxEsiH6ggim22mWFlp/2Gzsra3s8Ffs8USrHg9RtAxR0f8AXb/IfVM8wtZzH8WvCka6joE7va3aNFotv5eyLywVVz5jblyPl4Xofwjt9G0yf4P+M7iawtnne61ORpWiBcsksmw565GBj0r0uz8OaHpzRNp+jafamF2eIwWqJ5bMMMVwOCRwSOoqwumWC2U1mtjbC1nLmaAQrskLkl9y4wdxJznrnmiSureTX3u4R0afmjz/AFfSrDTdN8AS2FnDbyrqlqgkjQBtrxPvBPU7u/rUWhL4WbUPHv8AwkI00uNUk+0fagm4QeUmM55253Y9816PLYWcyW6TWkEi2zrJArxgiJlGAy/3SASARXN6V4Is0vtZuNfsNO1D7Xqj3tqZYRKYlKRr/EvytlD09uab96UvO/4uP+TEtEvK34c3+ZyPhz7X9h+Fn9ob/O3XOPMzu2fZ5Nmc/wCxtrKsLG51LQ/E9vq+qeGbOSS9uRqJ1Kyc3MXzHY+/zV4C7ShAwBjFe0y2drPPBPNbQyS2xLQSPGC0RIwSp7ZBI47VVu9A0e/v4r6+0mxubuHHl3E1sjyJj0YjIol70m+//A/yBaJLtb9f8yXSY3i0WyjluRduluitcDpKQo+f8ev41x/iMWf/AAtrQDr/AJH9n/YLj7H9px5f2venrxu2Zx364rd1LwjaanfyXc2pa1C8mMpa6tcQxjAxwiuAOnYVZj8N6b/Yw0u+hbVLQMWK6o5uyTnPJkyTjt6U27y5hJWjynndre6Jp7fE67sbSG80yJYTJb2T7ElPkfOu5OnzZyR05qsLhY/GfgYQX/hti07rHbaNAVeKEwNwX8w7k6fwrk4NesWul6fYrILKxtrcSKquIYVTcqjCg4HIA4HoKrWvhnQrJlay0TTrcpL5ymK0RNsmCN4wPvYJGevJpdU/T8Aesbev4nF6JNZab4l+IjywKzwypL9nh+WV4/sqkhccjODyO9cpcXsK6f4ImsLrw3axyatZm1sNOiLXMKMcMDMZMtwcN8gyTya9o/syw/tP+0fsVt9u8vyvtXlL5uz+7vxnHtmqsfhjQIZHeHQ9NjeSRZnZbSMFnU5ViccsDyD1Bojo0+1vw/z/AAG9n53/AB/r5mpRRRQAUUUUAFFFFABRRRQAUUUUAFFFFABRRRQAUUUUAZ+q/wDLL8f6VnVo6r/yy/H+lZ1fiXFP/I4rf9u/+kxPSofw0FFcn8QfEt74b0a3l00RiaebZvdd20YJ4HrXBWPxF8UX+o21ol3bq1xKsQYwLgFiBn9a4MNlVfE0vbQaS8/L5FuaTse01KLmcEESvx6sa5jw54jlvZ5NJ1qMWusWw/eR/wAMy/309Qa6KuRuvhJuMZOL8nv2en4D0kiyuoXAbJcMPQqKmXVGA+eIE+xxVCivRo5/mlD4a8vn73/pVyXSg+hqLqkRX5kcH0GDT01G3bOSyfUdfyrIor06fGGaQtzOMvVb/dYzeHgbS3lu5wJR+PH86kWaJ2wsiMT2DCuM8R63/wAI/pIvfs/2jNxDBs37f9ZIqZzg9N2cd8Vq16dPjTGRgp1aMWm+ja2tfv3IeHjeyZ0NFc+rMjZUlSO4NOaWRxh3Zh6E5rrXHNPlbdB3/wAWn32/Qn6s+5vUEgAknAHUmuepskixRPI5wqKWJ9hWf+vLe2H/APJv/tR/VfM3/tEP/PaP/voUhuYACTKnHowrh/C+vXniPT/7Rm0sWNlOqyWbNcB5JkOfmZQMJxg4yevatysqvGeLpScJUY3Xnf8AIaw8XqmbP2+2/wCen/jpo+323/PT/wAdNY1FcX+uuY/yQ+6X/wAkV9WgbP2+2/56f+Omj7fbf89P/HTWNVR9Vs49Yi0p5sXs0LTpFtPKKQCc4x1YcZzVR4zzKW1OH3S/+SD6vDudJ9vtv+en/jpp63UDLkSpj3OK5nUri7tdNmm06y+3XKDMdv5oj8w56bjwPWrQ6c8VcONMcvenTg15XT/N/l+Qvq0ejN37RD/z2j/76FR/b7b/AJ6f+OmuR8R61/wj+iPqH2f7Rslij8vfszvkVM5wem7P4Vq1dTjPHcinClFJ3Wt3tbzXcFho9WazalAGwA7D1AqaCdbiMugIAOOa4Sx8RXep6fc3FhpXnSW+pPZNF9oC5RJNjS5IHQZbb7YzWrofif7Rq2saZ9k2/wBmzRp5nm58zfGr9McYzjqa68u4mxTxT+vtRppO9ltsltd7tf1cmdGKXu7/ANf5HV0Vn/2r/wBMf/H/AP61WLS7+1b/AJNu3HfOa+twufZbjKyoUKl5PZWktlfqrbGEqU4q7RYooor2zIKKKKACiiigDP1X/ll+P9Kzq3J7dLhNsg6dCOorOm06VGJiG9O3qK/LOJ8kxs8ZPGUo80ZW21asktt+h3UakVHlZ5h8Yf8AkB6f/wBfJ/8AQTXlFrcyWd5DdQECWGRZEJGcEHI/lXrPxiRl0OwDKQRcnII6fKa8hqsljbBKMl1f5iqfEdUfF+qa7rultfGESw3KeXLFHsdQWGRkdvavdq+bNGGddsAOv2mP/wBCFfSdeJn9KFJ04wVlZmtJt3ucX420u21nxX4Vsb8SNbyS3PmIkjJvAhztJBBwe479Ko6lo+nal4in0iw0NNWXS7WGEwX18YbWzUqSojUIx3kDlscYHPau4uNNtLu/tL24i33FkXMD7iNhZdrcA4OR61nar4O0HW9QW+1PT1muVUIXEjpvX+64UgOPZsiuChjYwjCMm0oxa07uTd9Gumm6+a3tx3PPrAya94O8Dx6pNLJu1maF2SdtxRBcKBv4Y/KoGeCRWz9mXwp4k8R2/hqDyIhoQvY7WPJTzw0gDBexOBnHXFdXa+FNFsbWxtrSxEUGn3DXNrGsj4ikbdkjnp87cdBnpV4aZaLqz6mIf9MkgFu0m48xhiwGM46k84zWtXMacpSUU+V306ay5l17CjGzv6fn/keYaj4c0e3+HWj6zbhpNQubiwlmvTOxe5d5Yy285+fkk4PAxxjFb8elWXirx34gt/EkIu49OEEdnaSsdiI8e4yhc43FiRu6jbgVrp8OvDLTbo9HBIlE6RrLJsicMG3Im7anIH3QM9Dwa0NX8G6brtylxqWnSPOiGMTRPJC5Q/wlkIJX2PFdH1iVVXhzv4vetqruLstfJrdb/IhRtu+3z33+887mDX/hW206e5nntLbxWlnbT+a3mNCsmAN+cnGSu7OeOtaUnhHRofiVBpcFqYtNu9MkubmxSRhDPIkiKrOmcNw569eCa7w+ELM2FnZLp0cdrYypNbxRtsWN0OVPBHf1696nbw6r6xHqjWubyOBrdJfM6RswYjGcdVHOM8V0unmCvyUKiT5vsvd7P16+XQV4d1/Tb/LQ5PwJAlhceItLtiy2VjqZS2iLFhCjRRuVXPQZYnHbNb2u2NrqWhXlrf28dxA8RLRyLlSRyOPqAaW58I3AW6bRrqfSbi8uBcXE8HlyGRggXpIGAGAvQDp9arWWg6pZzsdU1++1CCRGQwXFtBGpz3ykat+vevOxWFxFOf1mrGUNvijJO6Su72tq/M1hKKemuv6nBWVpBpvwq8LQ6egsIdYuLOPUri3PlsyuvzEsOQWIC5963DpVj4V8e6DbeHIRaRakk6XlpEx8t0RNyylegYNgbup3c11I0HSx4fTRGs4301IRCtvJl12DoOck4wOetQaR4W0fQriS4020KTyIEaaWZ5n2jooZySF9gcVM8fCam23rzadHzbN67x9HsrWIUGkl5L/hzzzTLKLRvhfrPijTYm/tlRfIlwzsxiT7Q4O0E4UDG7gdea0dH8O6pbapo9/pmkWOmjzVN1eR6u8730TKdwcGMeYTkMCTxjiu9sNJsdM082NlbhLUs7GNiXBLsWb7xPUsePes7T/BXh/S72O6stPCSQkmENK7pCT1MaMxVP8AgIFaSzKMvaXv7zdr66PZP3lt89ypQv8AicNq2lwwf2trWpW39rWwuZJV17TL4fa7BVP3AjcAR4IIUnOOVrUutC0e5+MWlXTWNvK82mSXZlaMZeVZI9kh/wBoDoe1dHdeB/Dt7fyXdzpqtJM4klQSusUrj+J4w2xj7kGr2oaBpuqX1leXttuubFt1vKkjIydMjKkZBwMqcg+lJ5jDSzltJP5qy0v37WXkJwbv/XW5kfEj/knerf8AXNf/AENaoXlha+JPiPdaXr6C4srLToZrWykY+XIzs4eQr0YjaAM9M+9T+LfD00uh3+n+HtL8ybWrgPdzm4CrE2UzIwY5xhcYUdulbmr+G9K10wtqdqZJYM+VNHK8UiZ6gOhDAHuM4rKlWp0aMVzPXm1Vrq6jra/k1utNRtNt/wBdTzrVwIfBvirSI7iU6Zp+q20NrI0pJhVnhZkDnnCMTj06dq3r3R7Dwx408OSeH4jbS6jPJBdxpIT9pjETNvcEncVYA7uvPXmukbwtojeH/wCwzp0Q03cGNuMgMQwbJIOTyATnr3zTdL8JaHo2oNe6dYiO4KeWHaR38tOu1AxIRfZcCtHmFNwau/tadJXild673XNs9fvFyP8ArpqcLL/yJ95/2N4/9LFrSs/Dej+IPHXi5dZtxdiOa3CwySHamYF+YKDw3+1144rrD4a0lrN7U2n7l7z7cy+Y/M28PvznP3gDjp7VV1DwP4e1S9uby80/dc3RHnTJPJGzgKF2kqwO3AHy9D6U1mFP3knKN76rdXcX3X8r6lOLbv8A1u/8yt8PLqe68HRfaJ3uVhuJ4IZ5G3NLEkrKjE9/lAGe+K7nSv8Alr+H9ayLS0t7CzitLKFILeFQkcca4VVHQAVr6V/y1/D+td/D1RVc9hOKsm5P/wAlkZVVak0aFFFFfsx54UUUUAFFFFABRRRQBU1PSrHWbM2uqW0dzAWDbHHcd/Y1in4deEz10S3P1Lf410tFJpNWYGBZ+BfDFheR3Vpotqk0R3IxUttPrz3rb+zw/wDPGP8A75FSUVjLD0Z/FBP5Id2R/Z4f+eMf/fIo+zw/88Y/++RUlFT9Uw//AD7X3IfM+5H9nh/54x/98ipAAAABgDoBRRWlOjSpu8IpeisJtvcKKKK1EFFFFABRRRQAUUUUAFFFFABRRRQAUUUUAFNaKNzl0Vj6kZp1FROEKi5Zq68wvYj+zw/88Y/++RR9nh/54x/98ipKKx+qYf8A59r7kVzPuR/Z4f8AnjH/AN8inJGkediKueuBinUVUcPRhLmjBJ+iFdsKKKK3EFFFFABRRRQAUUUUAFFFFABRRRQAUUUUAFFFFABRRRQAUUUUAFFFFABRRRQAUUUUAFFFFABRRRQAUUUUAFFFFABRRRQAUUUUAFFFFABRRRQAUUUUAFFFFABRRRQAUUUUAFFFFABRRRQAUUUUAFFFFABRRRQAUUUUAFFFFABRRRQAUUUUAFFFFABRRRQAUUUUAFFFFAH/2Q==)"
      ],
      "metadata": {
        "id": "UCvtlNopyrfT"
      }
    },
    {
      "cell_type": "markdown",
      "source": [
        "## Cargamos los datos de febrero 2020 (prueba)"
      ],
      "metadata": {
        "id": "GrBsb_rFzOh7"
      }
    },
    {
      "cell_type": "code",
      "source": [
        "taxi_feb = pd.read_parquet('https://d37ci6vzurychx.cloudfront.net/trip-data/yellow_tripdata_2020-02.parquet')\n",
        "taxi_test = preprocess(taxi_feb, target_col=target_col)\n",
        "taxi_test.head()"
      ],
      "metadata": {
        "colab": {
          "base_uri": "https://localhost:8080/",
          "height": 206
        },
        "id": "lx0wPotDrujx",
        "outputId": "9587cd9a-b9a8-480f-9c11-5e7424179f22"
      },
      "execution_count": 17,
      "outputs": [
        {
          "output_type": "execute_result",
          "data": {
            "text/plain": [
              "  tpep_dropoff_datetime  pickup_weekday  pickup_hour  work_hours  \\\n",
              "0   2020-02-01 00:30:32             5.0          0.0         0.0   \n",
              "1   2020-02-01 01:05:36             5.0          0.0         0.0   \n",
              "2   2020-02-01 00:43:28             5.0          0.0         0.0   \n",
              "3   2020-02-01 00:31:39             5.0          0.0         0.0   \n",
              "4   2020-02-01 01:01:29             5.0          0.0         0.0   \n",
              "\n",
              "   pickup_minute  passenger_count  trip_distance  trip_time  trip_speed  \\\n",
              "0           17.0              1.0           2.60      777.0    0.003346   \n",
              "1           32.0              1.0           4.80     1969.0    0.002438   \n",
              "2           31.0              1.0           3.20      704.0    0.004545   \n",
              "3            7.0              1.0           4.38     1444.0    0.003033   \n",
              "4           51.0              1.0           2.28      586.0    0.003891   \n",
              "\n",
              "   PULocationID  DOLocationID  RatecodeID  high_tip  \n",
              "0         145.0           7.0         1.0         1  \n",
              "1          45.0          61.0         1.0         1  \n",
              "2         186.0         140.0         1.0         0  \n",
              "3         144.0         140.0         1.0         0  \n",
              "4         238.0         152.0         1.0         0  "
            ],
            "text/html": [
              "\n",
              "  <div id=\"df-f692560b-8020-4e94-a7a2-1a3b733b43a4\" class=\"colab-df-container\">\n",
              "    <div>\n",
              "<style scoped>\n",
              "    .dataframe tbody tr th:only-of-type {\n",
              "        vertical-align: middle;\n",
              "    }\n",
              "\n",
              "    .dataframe tbody tr th {\n",
              "        vertical-align: top;\n",
              "    }\n",
              "\n",
              "    .dataframe thead th {\n",
              "        text-align: right;\n",
              "    }\n",
              "</style>\n",
              "<table border=\"1\" class=\"dataframe\">\n",
              "  <thead>\n",
              "    <tr style=\"text-align: right;\">\n",
              "      <th></th>\n",
              "      <th>tpep_dropoff_datetime</th>\n",
              "      <th>pickup_weekday</th>\n",
              "      <th>pickup_hour</th>\n",
              "      <th>work_hours</th>\n",
              "      <th>pickup_minute</th>\n",
              "      <th>passenger_count</th>\n",
              "      <th>trip_distance</th>\n",
              "      <th>trip_time</th>\n",
              "      <th>trip_speed</th>\n",
              "      <th>PULocationID</th>\n",
              "      <th>DOLocationID</th>\n",
              "      <th>RatecodeID</th>\n",
              "      <th>high_tip</th>\n",
              "    </tr>\n",
              "  </thead>\n",
              "  <tbody>\n",
              "    <tr>\n",
              "      <th>0</th>\n",
              "      <td>2020-02-01 00:30:32</td>\n",
              "      <td>5.0</td>\n",
              "      <td>0.0</td>\n",
              "      <td>0.0</td>\n",
              "      <td>17.0</td>\n",
              "      <td>1.0</td>\n",
              "      <td>2.60</td>\n",
              "      <td>777.0</td>\n",
              "      <td>0.003346</td>\n",
              "      <td>145.0</td>\n",
              "      <td>7.0</td>\n",
              "      <td>1.0</td>\n",
              "      <td>1</td>\n",
              "    </tr>\n",
              "    <tr>\n",
              "      <th>1</th>\n",
              "      <td>2020-02-01 01:05:36</td>\n",
              "      <td>5.0</td>\n",
              "      <td>0.0</td>\n",
              "      <td>0.0</td>\n",
              "      <td>32.0</td>\n",
              "      <td>1.0</td>\n",
              "      <td>4.80</td>\n",
              "      <td>1969.0</td>\n",
              "      <td>0.002438</td>\n",
              "      <td>45.0</td>\n",
              "      <td>61.0</td>\n",
              "      <td>1.0</td>\n",
              "      <td>1</td>\n",
              "    </tr>\n",
              "    <tr>\n",
              "      <th>2</th>\n",
              "      <td>2020-02-01 00:43:28</td>\n",
              "      <td>5.0</td>\n",
              "      <td>0.0</td>\n",
              "      <td>0.0</td>\n",
              "      <td>31.0</td>\n",
              "      <td>1.0</td>\n",
              "      <td>3.20</td>\n",
              "      <td>704.0</td>\n",
              "      <td>0.004545</td>\n",
              "      <td>186.0</td>\n",
              "      <td>140.0</td>\n",
              "      <td>1.0</td>\n",
              "      <td>0</td>\n",
              "    </tr>\n",
              "    <tr>\n",
              "      <th>3</th>\n",
              "      <td>2020-02-01 00:31:39</td>\n",
              "      <td>5.0</td>\n",
              "      <td>0.0</td>\n",
              "      <td>0.0</td>\n",
              "      <td>7.0</td>\n",
              "      <td>1.0</td>\n",
              "      <td>4.38</td>\n",
              "      <td>1444.0</td>\n",
              "      <td>0.003033</td>\n",
              "      <td>144.0</td>\n",
              "      <td>140.0</td>\n",
              "      <td>1.0</td>\n",
              "      <td>0</td>\n",
              "    </tr>\n",
              "    <tr>\n",
              "      <th>4</th>\n",
              "      <td>2020-02-01 01:01:29</td>\n",
              "      <td>5.0</td>\n",
              "      <td>0.0</td>\n",
              "      <td>0.0</td>\n",
              "      <td>51.0</td>\n",
              "      <td>1.0</td>\n",
              "      <td>2.28</td>\n",
              "      <td>586.0</td>\n",
              "      <td>0.003891</td>\n",
              "      <td>238.0</td>\n",
              "      <td>152.0</td>\n",
              "      <td>1.0</td>\n",
              "      <td>0</td>\n",
              "    </tr>\n",
              "  </tbody>\n",
              "</table>\n",
              "</div>\n",
              "    <div class=\"colab-df-buttons\">\n",
              "\n",
              "  <div class=\"colab-df-container\">\n",
              "    <button class=\"colab-df-convert\" onclick=\"convertToInteractive('df-f692560b-8020-4e94-a7a2-1a3b733b43a4')\"\n",
              "            title=\"Convert this dataframe to an interactive table.\"\n",
              "            style=\"display:none;\">\n",
              "\n",
              "  <svg xmlns=\"http://www.w3.org/2000/svg\" height=\"24px\" viewBox=\"0 -960 960 960\">\n",
              "    <path d=\"M120-120v-720h720v720H120Zm60-500h600v-160H180v160Zm220 220h160v-160H400v160Zm0 220h160v-160H400v160ZM180-400h160v-160H180v160Zm440 0h160v-160H620v160ZM180-180h160v-160H180v160Zm440 0h160v-160H620v160Z\"/>\n",
              "  </svg>\n",
              "    </button>\n",
              "\n",
              "  <style>\n",
              "    .colab-df-container {\n",
              "      display:flex;\n",
              "      gap: 12px;\n",
              "    }\n",
              "\n",
              "    .colab-df-convert {\n",
              "      background-color: #E8F0FE;\n",
              "      border: none;\n",
              "      border-radius: 50%;\n",
              "      cursor: pointer;\n",
              "      display: none;\n",
              "      fill: #1967D2;\n",
              "      height: 32px;\n",
              "      padding: 0 0 0 0;\n",
              "      width: 32px;\n",
              "    }\n",
              "\n",
              "    .colab-df-convert:hover {\n",
              "      background-color: #E2EBFA;\n",
              "      box-shadow: 0px 1px 2px rgba(60, 64, 67, 0.3), 0px 1px 3px 1px rgba(60, 64, 67, 0.15);\n",
              "      fill: #174EA6;\n",
              "    }\n",
              "\n",
              "    .colab-df-buttons div {\n",
              "      margin-bottom: 4px;\n",
              "    }\n",
              "\n",
              "    [theme=dark] .colab-df-convert {\n",
              "      background-color: #3B4455;\n",
              "      fill: #D2E3FC;\n",
              "    }\n",
              "\n",
              "    [theme=dark] .colab-df-convert:hover {\n",
              "      background-color: #434B5C;\n",
              "      box-shadow: 0px 1px 3px 1px rgba(0, 0, 0, 0.15);\n",
              "      filter: drop-shadow(0px 1px 2px rgba(0, 0, 0, 0.3));\n",
              "      fill: #FFFFFF;\n",
              "    }\n",
              "  </style>\n",
              "\n",
              "    <script>\n",
              "      const buttonEl =\n",
              "        document.querySelector('#df-f692560b-8020-4e94-a7a2-1a3b733b43a4 button.colab-df-convert');\n",
              "      buttonEl.style.display =\n",
              "        google.colab.kernel.accessAllowed ? 'block' : 'none';\n",
              "\n",
              "      async function convertToInteractive(key) {\n",
              "        const element = document.querySelector('#df-f692560b-8020-4e94-a7a2-1a3b733b43a4');\n",
              "        const dataTable =\n",
              "          await google.colab.kernel.invokeFunction('convertToInteractive',\n",
              "                                                    [key], {});\n",
              "        if (!dataTable) return;\n",
              "\n",
              "        const docLinkHtml = 'Like what you see? Visit the ' +\n",
              "          '<a target=\"_blank\" href=https://colab.research.google.com/notebooks/data_table.ipynb>data table notebook</a>'\n",
              "          + ' to learn more about interactive tables.';\n",
              "        element.innerHTML = '';\n",
              "        dataTable['output_type'] = 'display_data';\n",
              "        await google.colab.output.renderOutput(dataTable, element);\n",
              "        const docLink = document.createElement('div');\n",
              "        docLink.innerHTML = docLinkHtml;\n",
              "        element.appendChild(docLink);\n",
              "      }\n",
              "    </script>\n",
              "  </div>\n",
              "\n",
              "\n",
              "<div id=\"df-20eb425b-d947-4f81-a3e1-3f0b08f3ddc2\">\n",
              "  <button class=\"colab-df-quickchart\" onclick=\"quickchart('df-20eb425b-d947-4f81-a3e1-3f0b08f3ddc2')\"\n",
              "            title=\"Suggest charts\"\n",
              "            style=\"display:none;\">\n",
              "\n",
              "<svg xmlns=\"http://www.w3.org/2000/svg\" height=\"24px\"viewBox=\"0 0 24 24\"\n",
              "     width=\"24px\">\n",
              "    <g>\n",
              "        <path d=\"M19 3H5c-1.1 0-2 .9-2 2v14c0 1.1.9 2 2 2h14c1.1 0 2-.9 2-2V5c0-1.1-.9-2-2-2zM9 17H7v-7h2v7zm4 0h-2V7h2v10zm4 0h-2v-4h2v4z\"/>\n",
              "    </g>\n",
              "</svg>\n",
              "  </button>\n",
              "\n",
              "<style>\n",
              "  .colab-df-quickchart {\n",
              "      --bg-color: #E8F0FE;\n",
              "      --fill-color: #1967D2;\n",
              "      --hover-bg-color: #E2EBFA;\n",
              "      --hover-fill-color: #174EA6;\n",
              "      --disabled-fill-color: #AAA;\n",
              "      --disabled-bg-color: #DDD;\n",
              "  }\n",
              "\n",
              "  [theme=dark] .colab-df-quickchart {\n",
              "      --bg-color: #3B4455;\n",
              "      --fill-color: #D2E3FC;\n",
              "      --hover-bg-color: #434B5C;\n",
              "      --hover-fill-color: #FFFFFF;\n",
              "      --disabled-bg-color: #3B4455;\n",
              "      --disabled-fill-color: #666;\n",
              "  }\n",
              "\n",
              "  .colab-df-quickchart {\n",
              "    background-color: var(--bg-color);\n",
              "    border: none;\n",
              "    border-radius: 50%;\n",
              "    cursor: pointer;\n",
              "    display: none;\n",
              "    fill: var(--fill-color);\n",
              "    height: 32px;\n",
              "    padding: 0;\n",
              "    width: 32px;\n",
              "  }\n",
              "\n",
              "  .colab-df-quickchart:hover {\n",
              "    background-color: var(--hover-bg-color);\n",
              "    box-shadow: 0 1px 2px rgba(60, 64, 67, 0.3), 0 1px 3px 1px rgba(60, 64, 67, 0.15);\n",
              "    fill: var(--button-hover-fill-color);\n",
              "  }\n",
              "\n",
              "  .colab-df-quickchart-complete:disabled,\n",
              "  .colab-df-quickchart-complete:disabled:hover {\n",
              "    background-color: var(--disabled-bg-color);\n",
              "    fill: var(--disabled-fill-color);\n",
              "    box-shadow: none;\n",
              "  }\n",
              "\n",
              "  .colab-df-spinner {\n",
              "    border: 2px solid var(--fill-color);\n",
              "    border-color: transparent;\n",
              "    border-bottom-color: var(--fill-color);\n",
              "    animation:\n",
              "      spin 1s steps(1) infinite;\n",
              "  }\n",
              "\n",
              "  @keyframes spin {\n",
              "    0% {\n",
              "      border-color: transparent;\n",
              "      border-bottom-color: var(--fill-color);\n",
              "      border-left-color: var(--fill-color);\n",
              "    }\n",
              "    20% {\n",
              "      border-color: transparent;\n",
              "      border-left-color: var(--fill-color);\n",
              "      border-top-color: var(--fill-color);\n",
              "    }\n",
              "    30% {\n",
              "      border-color: transparent;\n",
              "      border-left-color: var(--fill-color);\n",
              "      border-top-color: var(--fill-color);\n",
              "      border-right-color: var(--fill-color);\n",
              "    }\n",
              "    40% {\n",
              "      border-color: transparent;\n",
              "      border-right-color: var(--fill-color);\n",
              "      border-top-color: var(--fill-color);\n",
              "    }\n",
              "    60% {\n",
              "      border-color: transparent;\n",
              "      border-right-color: var(--fill-color);\n",
              "    }\n",
              "    80% {\n",
              "      border-color: transparent;\n",
              "      border-right-color: var(--fill-color);\n",
              "      border-bottom-color: var(--fill-color);\n",
              "    }\n",
              "    90% {\n",
              "      border-color: transparent;\n",
              "      border-bottom-color: var(--fill-color);\n",
              "    }\n",
              "  }\n",
              "</style>\n",
              "\n",
              "  <script>\n",
              "    async function quickchart(key) {\n",
              "      const quickchartButtonEl =\n",
              "        document.querySelector('#' + key + ' button');\n",
              "      quickchartButtonEl.disabled = true;  // To prevent multiple clicks.\n",
              "      quickchartButtonEl.classList.add('colab-df-spinner');\n",
              "      try {\n",
              "        const charts = await google.colab.kernel.invokeFunction(\n",
              "            'suggestCharts', [key], {});\n",
              "      } catch (error) {\n",
              "        console.error('Error during call to suggestCharts:', error);\n",
              "      }\n",
              "      quickchartButtonEl.classList.remove('colab-df-spinner');\n",
              "      quickchartButtonEl.classList.add('colab-df-quickchart-complete');\n",
              "    }\n",
              "    (() => {\n",
              "      let quickchartButtonEl =\n",
              "        document.querySelector('#df-20eb425b-d947-4f81-a3e1-3f0b08f3ddc2 button');\n",
              "      quickchartButtonEl.style.display =\n",
              "        google.colab.kernel.accessAllowed ? 'block' : 'none';\n",
              "    })();\n",
              "  </script>\n",
              "</div>\n",
              "\n",
              "    </div>\n",
              "  </div>\n"
            ],
            "application/vnd.google.colaboratory.intrinsic+json": {
              "type": "dataframe",
              "variable_name": "taxi_test"
            }
          },
          "metadata": {},
          "execution_count": 17
        }
      ]
    },
    {
      "cell_type": "markdown",
      "source": [
        "## Cargamos el modelo que guardamos y realizamos predicciones de prueba"
      ],
      "metadata": {
        "id": "k1M966adzTST"
      }
    },
    {
      "cell_type": "code",
      "source": [
        "loaded_rfc = joblib.load(\"random_forest.joblib\")"
      ],
      "metadata": {
        "id": "Rn8TC9p0r-c0"
      },
      "execution_count": 18,
      "outputs": []
    },
    {
      "cell_type": "code",
      "source": [
        "%%time\n",
        "# Compute F1\n",
        "# This is (relatively) slow since we are copying data to the CPU to compute the metric.\n",
        "\n",
        "preds_test = loaded_rfc.predict_proba(taxi_test[features])"
      ],
      "metadata": {
        "colab": {
          "base_uri": "https://localhost:8080/"
        },
        "id": "_BLczfkHsPRW",
        "outputId": "3a633c9d-4242-4756-d512-16a7fd4b5698"
      },
      "execution_count": 19,
      "outputs": [
        {
          "output_type": "stream",
          "name": "stdout",
          "text": [
            "CPU times: user 1min 3s, sys: 177 ms, total: 1min 3s\n",
            "Wall time: 1min 4s\n"
          ]
        }
      ]
    },
    {
      "cell_type": "code",
      "source": [
        "preds_test_labels = [p[1] for p in preds_test.round()]\n",
        "print(f'F1: {f1_score(taxi_test[target_col], preds_test_labels)}')"
      ],
      "metadata": {
        "colab": {
          "base_uri": "https://localhost:8080/"
        },
        "id": "WIwher-5sMKL",
        "outputId": "dac77dd6-2e76-4ee7-a208-71fed7f6170b"
      },
      "execution_count": 20,
      "outputs": [
        {
          "output_type": "stream",
          "name": "stdout",
          "text": [
            "F1: 0.3366484020063845\n"
          ]
        }
      ]
    },
    {
      "cell_type": "markdown",
      "source": [
        "## Intentemos realizar la predicción de un solo viaje\n",
        "\n",
        "Necesitaremos hacer algo así más adelante"
      ],
      "metadata": {
        "id": "yI0rJItCzZh0"
      }
    },
    {
      "cell_type": "code",
      "source": [
        "taxi_test.head(1)[features].iloc[0].values"
      ],
      "metadata": {
        "colab": {
          "base_uri": "https://localhost:8080/"
        },
        "id": "8LFWx_phs0rY",
        "outputId": "9c5a0033-1af7-41c7-ae49-a6f625af5939"
      },
      "execution_count": 21,
      "outputs": [
        {
          "output_type": "execute_result",
          "data": {
            "text/plain": [
              "array([5.0000000e+00, 0.0000000e+00, 0.0000000e+00, 1.7000000e+01,\n",
              "       1.0000000e+00, 2.5999999e+00, 7.7700000e+02, 3.3462034e-03,\n",
              "       1.4500000e+02, 7.0000000e+00, 1.0000000e+00], dtype=float32)"
            ]
          },
          "metadata": {},
          "execution_count": 21
        }
      ]
    },
    {
      "cell_type": "code",
      "source": [
        "taxi_test.head(1)[target_col].iloc[0]"
      ],
      "metadata": {
        "colab": {
          "base_uri": "https://localhost:8080/"
        },
        "id": "L9GeIjP0trrf",
        "outputId": "1848e4a6-687b-43a5-a3a1-6e25ddbc137f"
      },
      "execution_count": 22,
      "outputs": [
        {
          "output_type": "execute_result",
          "data": {
            "text/plain": [
              "1"
            ]
          },
          "metadata": {},
          "execution_count": 22
        }
      ]
    },
    {
      "cell_type": "code",
      "source": [
        "loaded_rfc.predict_proba(taxi_test.head(1)[features].iloc[0].values.reshape(1, -1))[0][1]"
      ],
      "metadata": {
        "colab": {
          "base_uri": "https://localhost:8080/"
        },
        "id": "elAjln9htdaI",
        "outputId": "47ea4433-a143-4937-9e65-5e529f2ca913"
      },
      "execution_count": 23,
      "outputs": [
        {
          "output_type": "stream",
          "name": "stderr",
          "text": [
            "/usr/local/lib/python3.10/dist-packages/sklearn/base.py:465: UserWarning: X does not have valid feature names, but RandomForestClassifier was fitted with feature names\n",
            "  warnings.warn(\n"
          ]
        },
        {
          "output_type": "execute_result",
          "data": {
            "text/plain": [
              "0.5415323692780363"
            ]
          },
          "metadata": {},
          "execution_count": 23
        }
      ]
    },
    {
      "cell_type": "markdown",
      "source": [
        "## Motivación: calculemos el desempeño para mayo de 2020"
      ],
      "metadata": {
        "id": "ilITXyKb0QJg"
      }
    },
    {
      "cell_type": "code",
      "source": [
        "taxi_may= pd.read_parquet('https://d37ci6vzurychx.cloudfront.net/trip-data/yellow_tripdata_2020-04.parquet')\n",
        "taxi_test = preprocess(taxi_may, target_col=target_col)\n",
        "taxi_test.head()\n",
        "\n",
        "preds_test = loaded_rfc.predict_proba(taxi_test[features])\n",
        "preds_test_labels = [p[1] for p in preds_test.round()]\n",
        "print(f'F1: {f1_score(taxi_test[target_col], preds_test_labels)}')\n"
      ],
      "metadata": {
        "colab": {
          "base_uri": "https://localhost:8080/"
        },
        "id": "AajcXx6nzx1v",
        "outputId": "e25133ba-998b-41d0-829a-9c66e831c6e0"
      },
      "execution_count": 24,
      "outputs": [
        {
          "output_type": "stream",
          "name": "stdout",
          "text": [
            "F1: 0.508015886218082\n"
          ]
        }
      ]
    },
    {
      "cell_type": "code",
      "source": [],
      "metadata": {
        "id": "CCJToMGo20dA"
      },
      "execution_count": null,
      "outputs": []
    },
    {
      "cell_type": "code",
      "source": [
        "!git clone https://github.com/Martin123451/analisis_propinas_taxis.git"
      ],
      "metadata": {
        "colab": {
          "base_uri": "https://localhost:8080/"
        },
        "id": "A6FwY2R44Scl",
        "outputId": "9ef91b6f-639b-4104-d7e3-f3b2c12c52ce"
      },
      "execution_count": 28,
      "outputs": [
        {
          "output_type": "stream",
          "name": "stdout",
          "text": [
            "Cloning into 'analisis_propinas_taxis'...\n",
            "remote: Enumerating objects: 29, done.\u001b[K\n",
            "remote: Counting objects: 100% (29/29), done.\u001b[K\n",
            "remote: Compressing objects: 100% (24/24), done.\u001b[K\n",
            "remote: Total 29 (delta 6), reused 10 (delta 1), pack-reused 0\u001b[K\n",
            "Receiving objects: 100% (29/29), 1.91 MiB | 4.14 MiB/s, done.\n",
            "Resolving deltas: 100% (6/6), done.\n"
          ]
        }
      ]
    },
    {
      "cell_type": "code",
      "source": [
        "%cd analisis_propinas_taxis"
      ],
      "metadata": {
        "colab": {
          "base_uri": "https://localhost:8080/"
        },
        "id": "JnqLXMSX4Sab",
        "outputId": "e36fea03-75f9-4624-f0aa-94a227213d2b"
      },
      "execution_count": 29,
      "outputs": [
        {
          "output_type": "stream",
          "name": "stdout",
          "text": [
            "/content/analisis_propinas_taxis\n"
          ]
        }
      ]
    },
    {
      "cell_type": "code",
      "source": [
        "import sys\n",
        "sys.path.append('src')"
      ],
      "metadata": {
        "id": "wCc8ArJh20a9"
      },
      "execution_count": 25,
      "outputs": []
    },
    {
      "cell_type": "code",
      "source": [
        "from src.dataset import load_data\n",
        "from src.features import build_features, compare_distributions"
      ],
      "metadata": {
        "id": "pYNwSveI20ZB"
      },
      "execution_count": 31,
      "outputs": []
    },
    {
      "cell_type": "code",
      "source": [
        "performance = {}\n",
        "\n",
        "# Evaluar el modelo para cada mes de 2020\n",
        "for month in range(1, 13):\n",
        "    data = load_data(year=2020, month=month)\n",
        "    data_preprocessed = preprocess(data, target_col=target_col)\n",
        "\n",
        "    preds_test = loaded_rfc.predict_proba(data_preprocessed[features])\n",
        "    preds_test_labels = [p[1] for p in preds_test.round()]\n",
        "\n",
        "    f1 = f1_score(data_preprocessed[target_col], preds_test_labels)\n",
        "    performance[month] = f1\n",
        "\n",
        "# Mostrar las métricas de desempeño por mes\n",
        "performance_df = pd.DataFrame(list(performance.items()), columns=['Month', 'F1-Score'])\n",
        "print(performance_df)\n"
      ],
      "metadata": {
        "colab": {
          "base_uri": "https://localhost:8080/"
        },
        "id": "zTlMRPdl20Wz",
        "outputId": "f5696ffa-6d8e-440a-c604-1a34116ed4b0"
      },
      "execution_count": 33,
      "outputs": [
        {
          "output_type": "stream",
          "name": "stdout",
          "text": [
            "    Month  F1-Score\n",
            "0       1  0.359652\n",
            "1       2  0.336648\n",
            "2       3  0.366875\n",
            "3       4  0.508016\n",
            "4       5  0.483571\n",
            "5       6  0.461314\n",
            "6       7  0.459277\n",
            "7       8  0.443645\n",
            "8       9  0.428127\n",
            "9      10  0.404939\n",
            "10     11  0.414592\n",
            "11     12  0.415692\n"
          ]
        }
      ]
    },
    {
      "cell_type": "code",
      "source": [
        "import numpy as np\n",
        "import matplotlib.pyplot as plt\n",
        "from scipy.stats import linregress\n",
        "\n",
        "# Preparar los datos\n",
        "months = np.array(list(performance.keys()))\n",
        "f1_scores = np.array([np.mean(scores) for scores in performance.values()])\n",
        "\n",
        "# Ajustar una línea de tendencia\n",
        "slope, intercept, r_value, p_value, std_err = linregress(months, f1_scores)\n",
        "\n",
        "# Crear gráfico\n",
        "plt.figure(figsize=(10, 6))\n",
        "plt.plot(months, f1_scores, 'o', label='F1-Score')\n",
        "plt.plot(months, intercept + slope * months, 'r', label='Línea de Tendencia')\n",
        "plt.title('Tendencia del F1-Score del Modelo a lo Largo del Año 2020')\n",
        "plt.xlabel('Mes')\n",
        "plt.ylabel('F1-Score')\n",
        "plt.xticks(range(1, 13))\n",
        "plt.legend()\n",
        "plt.grid(True)\n",
        "plt.show()\n",
        "\n",
        "print(f'Línea de tendencia: F1-Score = {intercept:.3f} + {slope:.3f} * Mes')\n"
      ],
      "metadata": {
        "colab": {
          "base_uri": "https://localhost:8080/",
          "height": 581
        },
        "id": "Y2UQrCPA20Ux",
        "outputId": "ce6e4212-0e96-4aa8-f809-3872552fb07c"
      },
      "execution_count": 38,
      "outputs": [
        {
          "output_type": "display_data",
          "data": {
            "text/plain": [
              "<Figure size 1000x600 with 1 Axes>"
            ],
            "image/png": "[encoded data removed]"
          },
          "metadata": {}
        },
        {
          "output_type": "stream",
          "name": "stdout",
          "text": [
            "Línea de tendencia: F1-Score = 0.399 + 0.004 * Mes\n"
          ]
        }
      ]
    },
    {
      "cell_type": "markdown",
      "source": [
        "Con esta estrategia, enfocada en analizar los F1-Score por cada mes, aplicando el modelo entrenado, se comprueba que el comportamiento del modelo es distinto por cada mes, esto dado a la gran variabilidad entre cada set de datos, debido al covid en 2020."
      ],
      "metadata": {
        "id": "PLnBqC2F_QX8"
      }
    },
    {
      "cell_type": "code",
      "source": [],
      "metadata": {
        "id": "tPLZ6xaY20Sv"
      },
      "execution_count": null,
      "outputs": []
    },
    {
      "cell_type": "code",
      "source": [],
      "metadata": {
        "id": "61nA-jac20Qj"
      },
      "execution_count": null,
      "outputs": []
    },
    {
      "cell_type": "code",
      "source": [],
      "metadata": {
        "id": "Cu4QB2U_20Oe"
      },
      "execution_count": null,
      "outputs": []
    },
    {
      "cell_type": "code",
      "source": [],
      "metadata": {
        "id": "mJPGAKRf20ME"
      },
      "execution_count": null,
      "outputs": []
    },
    {
      "cell_type": "code",
      "source": [],
      "metadata": {
        "id": "A9B4QKaD20Jl"
      },
      "execution_count": null,
      "outputs": []
    }
  ]
}